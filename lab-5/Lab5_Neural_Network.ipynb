{
  "nbformat": 4,
  "nbformat_minor": 0,
  "metadata": {
    "accelerator": "GPU",
    "colab": {
      "name": "Lab5_Neural_Network.ipynb",
      "provenance": [],
      "collapsed_sections": [],
      "toc_visible": true
    },
    "kernelspec": {
      "display_name": "Python 3",
      "language": "python",
      "name": "python3"
    },
    "language_info": {
      "codemirror_mode": {
        "name": "ipython",
        "version": 3
      },
      "file_extension": ".py",
      "mimetype": "text/x-python",
      "name": "python",
      "nbconvert_exporter": "python",
      "pygments_lexer": "ipython3",
      "version": "3.6.4"
    }
  },
  "cells": [
    {
      "cell_type": "markdown",
      "metadata": {
        "colab_type": "text",
        "id": "A2iZtzneOaHB"
      },
      "source": [
        "# Введение. Нейронные сети"
      ]
    },
    {
      "cell_type": "markdown",
      "metadata": {
        "colab_type": "text",
        "id": "10XVW4CV_583"
      },
      "source": [
        "В машинном обучении особое место занимают нейронные сети. Как можно догадаться из названия, нейронная сеть была создана на основе нейронов в мозгу человека.\n",
        "\n",
        "Нейронные сети хорошо себя зарекомендовали в анализе изображений, так называемое компьютерное зрение. Они хороши в:\n",
        "* Классификации - отделении среди всех картинок заранее распределенных групп, например, деление на кошек и собак.\n",
        "* Предсказание — возможность предсказывать следующий шаг. Например, рост или падение акций, основываясь на ситуации на фондовом рынке.\n",
        "* Распознавание — самым простым примером является распознавание вашего лица камерой телефона.\n",
        "\n",
        "Нейронные сети имеют свои плюсы:\n",
        "1. Устойчивость к шумам входных данных\n",
        "2. Адаптация к изменениям при обучении\n",
        "3. Быстродействие\n",
        "\n",
        "Однако нейронные сети редко дают точные ответы и являются лишь дополнением к решениям человека. Например, в медицине нейронные сети используются для анализа медицинских изображений, однако чаще всего не дают точного диагноза, а всего лишь предсказывают вероятность того или иного заболевания."
      ]
    },
    {
      "cell_type": "markdown",
      "metadata": {
        "colab_type": "text",
        "id": "ftdfx4fAOrfH"
      },
      "source": [
        "## Строение нейронной сети"
      ]
    },
    {
      "cell_type": "markdown",
      "metadata": {
        "colab_type": "text",
        "id": "0JPJH7_cOnf0"
      },
      "source": [
        "Нейрон похож на функцию: он принимает на вход несколько значений и возвращает одно. Важно помнить, что нейроны оперируют числами в диапазоне [0,1] или [-1,1], а числа, выходящие за этот диапозон, необходимо нормализовать.\n",
        "\n",
        "\n",
        "Ниже представлена схема работы искуссвенного нейрона.\n",
        "\n",
        "У нейрона есть $n$ входов $x_i$, у каждого из которого есть вес $w_i$, на который умножается сигнал, проходящий по связи. После этого взвешенные сигналы $x_i*w_i$ направляются в сумматор, который аггрегирует все сигналы во взвешенную сумму. Эту сумму также называют net. Таким образом, $\n",
        "net=\\sum\\limits_{i=1}^n w_i*x_i$.\n",
        "\n",
        "Далее к полученной сумме применяют функцию активации, которая преобразует взвешенную сумму в какое-то число, которое и будет являться выходом нейрона. Функция активации обозначается ϕ(net). Таким образом, выходов искусственного нейрона является ϕ(net)."
      ]
    },
    {
      "cell_type": "code",
      "metadata": {
        "colab_type": "code",
        "id": "w41MClSEBfyw",
        "colab": {
          "base_uri": "https://localhost:8080/",
          "height": 259
        },
        "outputId": "d2f072e6-520e-44f2-aede-4a0493910f68"
      },
      "source": [
        "from IPython.display import Image \n",
        "from IPython.core.display import HTML \n",
        "Image(url= \"http://neerc.ifmo.ru/wiki/images/a/a5/Искусственный_нейрон_схема.png\", width=500)"
      ],
      "execution_count": 34,
      "outputs": [
        {
          "output_type": "execute_result",
          "data": {
            "text/html": [
              "<img src=\"http://neerc.ifmo.ru/wiki/images/a/a5/Искусственный_нейрон_схема.png\" width=\"500\"/>"
            ],
            "text/plain": [
              "<IPython.core.display.Image object>"
            ]
          },
          "metadata": {
            "tags": []
          },
          "execution_count": 34
        }
      ]
    },
    {
      "cell_type": "markdown",
      "metadata": {
        "colab_type": "text",
        "id": "YSwfESIXD0Va"
      },
      "source": [
        "Если вы объедините эти нейроны, то получите прямо распространяющуюся нейронную сеть — процесс идёт от ввода к выводу, через нейроны, соединённые связями с значениями весов (синапсами). От веса зависит степень важности признака $x_i$, которая меняется в процессе обучения. Во время инициализации нейронной сети, веса расставляются в случайном порядке. \n",
        "\n",
        "Для обучения сети в прямо распространяющейся нейронной сети вы проходите все нейроны до выходного слоя, а затем сеть подстраивает веса $w_i$ с помощью метода обратного распространения ошибки.\n",
        "\n",
        "В нейронной сети есть два обязательных слоя: входной и выходной, а слои посередине называются скрытыми.\n",
        "\n",
        "Количество нейронов в выходном слое зависит от задачи. Например, в случае классификации количество выходных нейронов равно тому количеству классов, на которые делится выборка изображений."
      ]
    },
    {
      "cell_type": "code",
      "metadata": {
        "colab_type": "code",
        "id": "TJgYXRz0Eamw",
        "colab": {
          "base_uri": "https://localhost:8080/",
          "height": 379
        },
        "outputId": "7a6a8902-b117-4938-bbec-208dc2b696c5"
      },
      "source": [
        "Image(url= \"https://cdn.tproger.ru/wp-content/uploads/2016/08/15GSpUs2hWFx4Lq2_KCyulg.png\", width=400)"
      ],
      "execution_count": 35,
      "outputs": [
        {
          "output_type": "execute_result",
          "data": {
            "text/html": [
              "<img src=\"https://cdn.tproger.ru/wp-content/uploads/2016/08/15GSpUs2hWFx4Lq2_KCyulg.png\" width=\"400\"/>"
            ],
            "text/plain": [
              "<IPython.core.display.Image object>"
            ]
          },
          "metadata": {
            "tags": []
          },
          "execution_count": 35
        }
      ]
    },
    {
      "cell_type": "markdown",
      "metadata": {
        "colab_type": "text",
        "id": "OOj4HJ7wOxMc"
      },
      "source": [
        "## Функции активации"
      ]
    },
    {
      "cell_type": "markdown",
      "metadata": {
        "colab_type": "text",
        "id": "5E7OS9lQEZoi"
      },
      "source": [
        "Поговорим о функциях активации. По сути, это всего лишь некоторая функция, которая применяется к после сумматора, для получения нужного ответа. Их много, например, Линейная, Сигмоид (Логистическая),Гиперболический тангенс. В данной лабораторной мы применим две функции, ReLU(Rectified linear unit) и Softmax, однако подробно рассматривать их не будем.\n",
        "\n",
        "В случае ReLU $f(x) = max(0,x)$. Пользуясь определением, становится понятно, что ReLu возвращает значение х, если х положительно, и 0 в противном случае.\n",
        "\n",
        "Функция Softmax применяется в машинном обучении для задач классификации, когда количество возможных классов больше двух, и обычно на выходном слое. Сумма всех выходных сигналов при этом равна 1 (то есть каждое значение это вероятность принадлежности данного изображения к классу).\n",
        "\n"
      ]
    },
    {
      "cell_type": "markdown",
      "metadata": {
        "colab_type": "text",
        "id": "bIGgVnxsO2Fw"
      },
      "source": [
        "## Валидационная выборка"
      ]
    },
    {
      "cell_type": "markdown",
      "metadata": {
        "colab_type": "text",
        "id": "9udJxPxlbNKu"
      },
      "source": [
        "Отметим еще один важный момент. В прошлых лабораторных мы делили наш датсет на обучающую и тестовую выборку. Однако сегодя мы рассмотрим еще одну выборку, на которую можно делить датасет. Это так называемая валидационная выборка (validation или иногда development set).\n",
        "\n",
        "Тогда датасет делится на:\n",
        "* Обучающую выборку, на которой запускается алгоритм обучения;\n",
        "* Валидационную, которая используется для настройки параметров, выбора признаков и принятия других решений относительно алгоритма обучения, иногда такую выборку называют удерживаемой для перёкрестной проверки (hold-out cross validation set);\n",
        "* Тестовую, на которой оценивают качество работы алгоритма, но на её основе не принимают никаких решений о том, какой алгоритм обучения или параметры использовать."
      ]
    },
    {
      "cell_type": "markdown",
      "metadata": {
        "colab_type": "text",
        "id": "evxybmNGFQEQ"
      },
      "source": [
        "#Основные шаги по выполнению лабораторной работы"
      ]
    },
    {
      "cell_type": "markdown",
      "metadata": {
        "colab_type": "text",
        "id": "iQb3o1jPFTng"
      },
      "source": [
        "##1. Импортируем необходимые библиотеки"
      ]
    },
    {
      "cell_type": "markdown",
      "metadata": {
        "colab_type": "text",
        "id": "8neiwUyZFWZW"
      },
      "source": [
        "В данной лабораторной работе мы будем использовать библиотеку Tensorflow. TensorFlow — открытая программная библиотека для машинного обучения, разработанная компанией Google для решения задач построения и тренировки нейронной сети с целью автоматического нахождения и классификации образов, достигая качества человеческого восприятия.\n",
        "\n",
        "Для работы с сетями глубокого обучения мы будем использовать нейросетевую библиотеку Keras, являющуюся надстройкой над Tensorflow.\n",
        "\n",
        "В Keras уже есть встроенные датасеты, например, fashion_mnist и мы воспользуемся им для построения нейронной сети. Также нам понабится уже знакомая библиотека numpy и matplotlib для отрисовки графиков.\n",
        "\n"
      ]
    },
    {
      "cell_type": "code",
      "metadata": {
        "colab_type": "code",
        "id": "_tTKGRkNFONo",
        "colab": {}
      },
      "source": [
        "from tensorflow.keras.datasets import fashion_mnist\n",
        "from tensorflow.keras.models import Sequential\n",
        "from tensorflow.keras.layers import Dense, Dropout\n",
        "from tensorflow.keras import utils\n",
        "from tensorflow.keras.preprocessing import image\n",
        "import numpy as np\n",
        "import matplotlib.pyplot as plt\n",
        "from PIL import Image\n",
        "%matplotlib inline "
      ],
      "execution_count": 0,
      "outputs": []
    },
    {
      "cell_type": "markdown",
      "metadata": {
        "colab_type": "text",
        "id": "HKiRH_t2JtqS"
      },
      "source": [
        "##2. Подготовка данных"
      ]
    },
    {
      "cell_type": "markdown",
      "metadata": {
        "colab_type": "text",
        "id": "ObOlKtkeKinJ"
      },
      "source": [
        "Мы будем работать с датасетом fashion_mnist, представляющим собой набор картинок одежды, обуви или сумок.\n",
        "\n",
        "Разделим датасет на обучающую и тестовую выборки."
      ]
    },
    {
      "cell_type": "code",
      "metadata": {
        "colab_type": "code",
        "id": "BjRkgMf2FPnl",
        "colab": {}
      },
      "source": [
        "(X_train, y_train), (X_test,y_test) = fashion_mnist.load_data()"
      ],
      "execution_count": 0,
      "outputs": []
    },
    {
      "cell_type": "markdown",
      "metadata": {
        "colab_type": "text",
        "id": "LlvdbHNxK5Qj"
      },
      "source": [
        "И создадим список с названиями классов:"
      ]
    },
    {
      "cell_type": "code",
      "metadata": {
        "colab_type": "code",
        "id": "sL2U3wZ0FPqG",
        "colab": {}
      },
      "source": [
        "classes = ['футболка', 'брюки', 'свитер', 'платье', 'пальто', 'туфли', 'рубашка', 'кроссовки', 'сумка', 'ботинки']"
      ],
      "execution_count": 0,
      "outputs": []
    },
    {
      "cell_type": "markdown",
      "metadata": {
        "colab_type": "text",
        "id": "vATjYUHbLICC"
      },
      "source": [
        "Так как мы работаем с изображениями, а не с числами, следует понять, как они представлены в компьютере. Наши изображения на самом деле являются набором точек разного цвета. Более научно - двумерными массивами, содрежащими числа, которые харктеризуют интенсивность пикселя для черно-белого изображения. В таком случае значение 0 будет значить черный пиксель, а 255 белый. Позже мы нормализуем эти значения, чтобы они были от нуля до единицы.\n",
        "\n",
        "Посмотрим картинки из нашего набора данных:"
      ]
    },
    {
      "cell_type": "code",
      "metadata": {
        "colab_type": "code",
        "id": "pX_znbkmFPuc",
        "colab": {
          "base_uri": "https://localhost:8080/",
          "height": 327
        },
        "outputId": "f2e5fa40-0c4c-4cf3-dbe1-ee8915fe3a97"
      },
      "source": [
        "plt.figure(figsize=(20,5))\n",
        "for i in range(1,21):\n",
        "    plt.subplot(2,10,i)\n",
        "    plt.imshow(X_train[i], cmap=plt.cm.binary)\n",
        "    plt.xlabel(classes[y_train[i]])"
      ],
      "execution_count": 39,
      "outputs": [
        {
          "output_type": "display_data",
          "data": {
            "image/png": "[encoded data removed]",
            "text/plain": [
              "<Figure size 1440x360 with 20 Axes>"
            ]
          },
          "metadata": {
            "tags": []
          }
        }
      ]
    },
    {
      "cell_type": "markdown",
      "metadata": {
        "colab_type": "text",
        "id": "JV3JryIHP7uZ"
      },
      "source": [
        "Нейронная сеть принимает на вход плоский вектор, а не двумерные изображения, которые имеются в fashion_mnist. Так что мы преобразуем размерность наших данных:\n"
      ]
    },
    {
      "cell_type": "code",
      "metadata": {
        "colab_type": "code",
        "id": "2GEKQprAFPsr",
        "colab": {}
      },
      "source": [
        "X_train = X_train.reshape(60000, 784) # 60000 изображений по 784 пикселя в каждом\n",
        "X_test = X_test.reshape(10000, 784)"
      ],
      "execution_count": 0,
      "outputs": []
    },
    {
      "cell_type": "markdown",
      "metadata": {
        "colab_type": "text",
        "id": "QIDYux3QQjdt"
      },
      "source": [
        "Дальше мы нормализуем данные. Нормализация данных необходима, чтобы в своих результатах не зависить от величин переменных, а только от их соотношения. Здесь мы используем деление на 255 для приведения значения пикселей в диапозон от 0 до 1."
      ]
    },
    {
      "cell_type": "code",
      "metadata": {
        "colab_type": "code",
        "id": "h_rDkFMYQiI3",
        "colab": {}
      },
      "source": [
        "X_train = X_train / 255 \n",
        "X_test = X_test / 255 "
      ],
      "execution_count": 0,
      "outputs": []
    },
    {
      "cell_type": "markdown",
      "metadata": {
        "colab_type": "text",
        "id": "xDSm-IVvSPUb"
      },
      "source": [
        "Входные данные мы подготовили, теперь давайте поговорим о выходных. Наша задача, чтобы при подачи картинки в нейронную сеть, она смогла сказать нам, является ли эта вещь футболкой, обувью, сумкой и т.д. Предсказания нашей нейронной сети записаны с помощью списка из 10 классов, где все значения равны 0, кроме предсказанного класса, равного 1. Это называется подход one hot encoding.\n",
        "\n",
        "То есть если картинка была определена как футболка (1 в списке classes), то программа выдаст [1, 0, 0, 0, 0, 0, 0, 0, 0, 0]. \n",
        "\n",
        "А если как рубашка (7 в списке classes), то [0, 0, 0, 0, 0, 0, 1, 0, 0, 0].\n",
        "\n",
        "С помощью следующего кода мы превратим наш y_train и y_test в такие же массивы, понятные нейронной сети. И сравним y_train до и после.\n"
      ]
    },
    {
      "cell_type": "code",
      "metadata": {
        "colab_type": "code",
        "id": "S_r6mzBbUOYY",
        "colab": {
          "base_uri": "https://localhost:8080/",
          "height": 34
        },
        "outputId": "8382e28d-0403-4b1c-cd1a-e392f0b6945c"
      },
      "source": [
        "y_train[0]"
      ],
      "execution_count": 42,
      "outputs": [
        {
          "output_type": "execute_result",
          "data": {
            "text/plain": [
              "9"
            ]
          },
          "metadata": {
            "tags": []
          },
          "execution_count": 42
        }
      ]
    },
    {
      "cell_type": "code",
      "metadata": {
        "colab_type": "code",
        "id": "j_4FRqlcT1cy",
        "colab": {}
      },
      "source": [
        "y_train = utils.to_categorical(y_train, 10)\n",
        "y_test = utils.to_categorical(y_test, 10)"
      ],
      "execution_count": 0,
      "outputs": []
    },
    {
      "cell_type": "code",
      "metadata": {
        "colab_type": "code",
        "id": "JcOwwstIUSNO",
        "colab": {
          "base_uri": "https://localhost:8080/",
          "height": 34
        },
        "outputId": "6097dbe0-8604-4473-d9c4-715c46b71e06"
      },
      "source": [
        "y_train[0]"
      ],
      "execution_count": 44,
      "outputs": [
        {
          "output_type": "execute_result",
          "data": {
            "text/plain": [
              "array([0., 0., 0., 0., 0., 0., 0., 0., 0., 1.], dtype=float32)"
            ]
          },
          "metadata": {
            "tags": []
          },
          "execution_count": 44
        }
      ]
    },
    {
      "cell_type": "markdown",
      "metadata": {
        "colab_type": "text",
        "id": "5sNbnaQbQiNJ"
      },
      "source": [
        "##3. Создание нейронной сети"
      ]
    },
    {
      "cell_type": "markdown",
      "metadata": {
        "colab_type": "text",
        "id": "023je-szUopy"
      },
      "source": [
        "При создании нейронной сети мы будем использовать модель Sequental из библиотеки Keras, в которой все слои сети идут последовательно друг за другом.\n",
        "\n",
        "Объявим модель:"
      ]
    },
    {
      "cell_type": "code",
      "metadata": {
        "colab_type": "code",
        "id": "kcLk57ZwUoDo",
        "colab": {}
      },
      "source": [
        "model = Sequential()"
      ],
      "execution_count": 0,
      "outputs": []
    },
    {
      "cell_type": "markdown",
      "metadata": {
        "colab_type": "text",
        "id": "A6LS-RR5VJta"
      },
      "source": [
        "И создадим два полносвязных слоя: входной и выходной.\n",
        "\n",
        "Входным слоем является тот, который принимает наши данные. Зададим здесь количество нейронов (800), количество пикселей (784 или для сети 784 входа в каждый нейрон) и активационную функцию (ReLU).\n",
        "\n",
        "На выходном слое мы укажем количество классов, которые получатся при предсказании (10) и и активационную функцию (Softmax)."
      ]
    },
    {
      "cell_type": "code",
      "metadata": {
        "colab_type": "code",
        "id": "ftqdx3k1VHBk",
        "colab": {}
      },
      "source": [
        "model.add(Dense(800, input_dim=784, activation=\"relu\"))\n",
        "model.add(Dense(10, activation=\"softmax\"))"
      ],
      "execution_count": 0,
      "outputs": []
    },
    {
      "cell_type": "markdown",
      "metadata": {
        "colab_type": "text",
        "id": "YtJfveCuWGKZ"
      },
      "source": [
        "Далее мы скомпилируем нашу модель и посмотрим на ее описание.\n",
        "\n",
        "Здесь мы используем функцию ошибки категориальная перекрестная энтропия (вместо метода наименьших квадратов),  стохастический градиентный спуск (SGD) в качестве оптимизатора и точность в метрике."
      ]
    },
    {
      "cell_type": "code",
      "metadata": {
        "colab_type": "code",
        "id": "6AANUJwEWB6b",
        "colab": {
          "base_uri": "https://localhost:8080/",
          "height": 221
        },
        "outputId": "c914575a-ae92-48b8-8029-4ffb5b647b37"
      },
      "source": [
        "model.compile(loss=\"categorical_crossentropy\", optimizer=\"SGD\", metrics=[\"accuracy\"])\n",
        "model.summary()"
      ],
      "execution_count": 47,
      "outputs": [
        {
          "output_type": "stream",
          "text": [
            "Model: \"sequential_1\"\n",
            "_________________________________________________________________\n",
            "Layer (type)                 Output Shape              Param #   \n",
            "=================================================================\n",
            "dense_7 (Dense)              (None, 800)               628000    \n",
            "_________________________________________________________________\n",
            "dense_8 (Dense)              (None, 10)                8010      \n",
            "=================================================================\n",
            "Total params: 636,010\n",
            "Trainable params: 636,010\n",
            "Non-trainable params: 0\n",
            "_________________________________________________________________\n"
          ],
          "name": "stdout"
        }
      ]
    },
    {
      "cell_type": "markdown",
      "metadata": {
        "colab_type": "text",
        "id": "bBjf-3CfW0kG"
      },
      "source": [
        "##4. Обучение нейронной сети"
      ]
    },
    {
      "cell_type": "markdown",
      "metadata": {
        "colab_type": "text",
        "id": "SGgNQW0NWpbC"
      },
      "source": [
        "Теперь обучим сети с помощью метода fit. Здесь же мы задаем некоторые параметры при обучении:\n",
        "\n",
        "* batch_size - размер мини-выборки для стохастического градиентного спуска. Мы берем batch_size изображений, прогоняем через сеть, меняем веса и повторяем процедуру.\n",
        "* epochs - количество эпох, то есть сколько раз мы будем обучаться на полном наборе данных\n",
        "* validation_split - деление нашей обучающей выборки на обучающую и валидационную\n",
        "* verbose - отвечает за подробность изображения отчета при обучении (0, 1 или 2)"
      ]
    },
    {
      "cell_type": "markdown",
      "metadata": {
        "colab_type": "text",
        "id": "nLi9LtW6YfsO"
      },
      "source": [
        "В выводе обучения мы можем увидеть информацию по каждой эпохе: количество использованных изображений, время выполнения, функция ошибки и точность (доля правильных ответов), а также последние два параметра для валидационной выборки."
      ]
    },
    {
      "cell_type": "code",
      "metadata": {
        "colab_type": "code",
        "id": "OkRDwJvHWooq",
        "colab": {
          "base_uri": "https://localhost:8080/",
          "height": 1000
        },
        "outputId": "09813b2e-c6d8-495a-daf3-4cf47e6d8bf7"
      },
      "source": [
        "model.fit(X_train, y_train, batch_size=200, epochs=100, validation_split=0.2, verbose=1)"
      ],
      "execution_count": 48,
      "outputs": [
        {
          "output_type": "stream",
          "text": [
            "Train on 48000 samples, validate on 12000 samples\n",
            "Epoch 1/100\n",
            "48000/48000 [==============================] - 1s 30us/sample - loss: 1.1940 - acc: 0.6527 - val_loss: 0.8384 - val_acc: 0.7442\n",
            "Epoch 2/100\n",
            "48000/48000 [==============================] - 1s 27us/sample - loss: 0.7634 - acc: 0.7632 - val_loss: 0.6953 - val_acc: 0.7771\n",
            "Epoch 3/100\n",
            "48000/48000 [==============================] - 1s 28us/sample - loss: 0.6652 - acc: 0.7906 - val_loss: 0.6325 - val_acc: 0.7978\n",
            "Epoch 4/100\n",
            "48000/48000 [==============================] - 1s 27us/sample - loss: 0.6128 - acc: 0.8076 - val_loss: 0.5919 - val_acc: 0.8081\n",
            "Epoch 5/100\n",
            "48000/48000 [==============================] - 1s 27us/sample - loss: 0.5782 - acc: 0.8149 - val_loss: 0.5631 - val_acc: 0.8162\n",
            "Epoch 6/100\n",
            "48000/48000 [==============================] - 1s 27us/sample - loss: 0.5533 - acc: 0.8217 - val_loss: 0.5433 - val_acc: 0.8200\n",
            "Epoch 7/100\n",
            "48000/48000 [==============================] - 1s 26us/sample - loss: 0.5344 - acc: 0.8264 - val_loss: 0.5276 - val_acc: 0.8252\n",
            "Epoch 8/100\n",
            "48000/48000 [==============================] - 1s 26us/sample - loss: 0.5188 - acc: 0.8304 - val_loss: 0.5159 - val_acc: 0.8282\n",
            "Epoch 9/100\n",
            "48000/48000 [==============================] - 1s 25us/sample - loss: 0.5062 - acc: 0.8323 - val_loss: 0.5067 - val_acc: 0.8298\n",
            "Epoch 10/100\n",
            "48000/48000 [==============================] - 1s 26us/sample - loss: 0.4956 - acc: 0.8357 - val_loss: 0.4959 - val_acc: 0.8310\n",
            "Epoch 11/100\n",
            "48000/48000 [==============================] - 1s 26us/sample - loss: 0.4862 - acc: 0.8383 - val_loss: 0.4899 - val_acc: 0.8313\n",
            "Epoch 12/100\n",
            "48000/48000 [==============================] - 1s 26us/sample - loss: 0.4787 - acc: 0.8403 - val_loss: 0.4828 - val_acc: 0.8347\n",
            "Epoch 13/100\n",
            "48000/48000 [==============================] - 1s 26us/sample - loss: 0.4715 - acc: 0.8420 - val_loss: 0.4734 - val_acc: 0.8385\n",
            "Epoch 14/100\n",
            "48000/48000 [==============================] - 1s 26us/sample - loss: 0.4651 - acc: 0.8450 - val_loss: 0.4679 - val_acc: 0.8396\n",
            "Epoch 15/100\n",
            "48000/48000 [==============================] - 1s 26us/sample - loss: 0.4590 - acc: 0.8466 - val_loss: 0.4646 - val_acc: 0.8407\n",
            "Epoch 16/100\n",
            "48000/48000 [==============================] - 1s 26us/sample - loss: 0.4537 - acc: 0.8473 - val_loss: 0.4607 - val_acc: 0.8432\n",
            "Epoch 17/100\n",
            "48000/48000 [==============================] - 1s 26us/sample - loss: 0.4491 - acc: 0.8487 - val_loss: 0.4560 - val_acc: 0.8440\n",
            "Epoch 18/100\n",
            "48000/48000 [==============================] - 1s 27us/sample - loss: 0.4444 - acc: 0.8496 - val_loss: 0.4509 - val_acc: 0.8460\n",
            "Epoch 19/100\n",
            "48000/48000 [==============================] - 1s 27us/sample - loss: 0.4398 - acc: 0.8517 - val_loss: 0.4480 - val_acc: 0.8457\n",
            "Epoch 20/100\n",
            "48000/48000 [==============================] - 1s 27us/sample - loss: 0.4363 - acc: 0.8523 - val_loss: 0.4480 - val_acc: 0.8463\n",
            "Epoch 21/100\n",
            "48000/48000 [==============================] - 1s 27us/sample - loss: 0.4322 - acc: 0.8549 - val_loss: 0.4394 - val_acc: 0.8508\n",
            "Epoch 22/100\n",
            "48000/48000 [==============================] - 1s 27us/sample - loss: 0.4292 - acc: 0.8549 - val_loss: 0.4368 - val_acc: 0.8507\n",
            "Epoch 23/100\n",
            "48000/48000 [==============================] - 1s 27us/sample - loss: 0.4256 - acc: 0.8560 - val_loss: 0.4350 - val_acc: 0.8511\n",
            "Epoch 24/100\n",
            "48000/48000 [==============================] - 1s 27us/sample - loss: 0.4224 - acc: 0.8568 - val_loss: 0.4309 - val_acc: 0.8522\n",
            "Epoch 25/100\n",
            "48000/48000 [==============================] - 1s 27us/sample - loss: 0.4194 - acc: 0.8577 - val_loss: 0.4287 - val_acc: 0.8530\n",
            "Epoch 26/100\n",
            "48000/48000 [==============================] - 1s 27us/sample - loss: 0.4160 - acc: 0.8588 - val_loss: 0.4259 - val_acc: 0.8538\n",
            "Epoch 27/100\n",
            "48000/48000 [==============================] - 1s 28us/sample - loss: 0.4138 - acc: 0.8597 - val_loss: 0.4262 - val_acc: 0.8533\n",
            "Epoch 28/100\n",
            "48000/48000 [==============================] - 1s 27us/sample - loss: 0.4111 - acc: 0.8605 - val_loss: 0.4226 - val_acc: 0.8551\n",
            "Epoch 29/100\n",
            "48000/48000 [==============================] - 1s 27us/sample - loss: 0.4087 - acc: 0.8611 - val_loss: 0.4224 - val_acc: 0.8553\n",
            "Epoch 30/100\n",
            "48000/48000 [==============================] - 1s 27us/sample - loss: 0.4061 - acc: 0.8619 - val_loss: 0.4173 - val_acc: 0.8571\n",
            "Epoch 31/100\n",
            "48000/48000 [==============================] - 1s 27us/sample - loss: 0.4038 - acc: 0.8633 - val_loss: 0.4161 - val_acc: 0.8562\n",
            "Epoch 32/100\n",
            "48000/48000 [==============================] - 1s 26us/sample - loss: 0.4013 - acc: 0.8635 - val_loss: 0.4147 - val_acc: 0.8573\n",
            "Epoch 33/100\n",
            "48000/48000 [==============================] - 1s 27us/sample - loss: 0.3993 - acc: 0.8632 - val_loss: 0.4126 - val_acc: 0.8579\n",
            "Epoch 34/100\n",
            "48000/48000 [==============================] - 1s 26us/sample - loss: 0.3973 - acc: 0.8646 - val_loss: 0.4101 - val_acc: 0.8588\n",
            "Epoch 35/100\n",
            "48000/48000 [==============================] - 1s 27us/sample - loss: 0.3953 - acc: 0.8647 - val_loss: 0.4091 - val_acc: 0.8576\n",
            "Epoch 36/100\n",
            "48000/48000 [==============================] - 1s 27us/sample - loss: 0.3929 - acc: 0.8661 - val_loss: 0.4071 - val_acc: 0.8589\n",
            "Epoch 37/100\n",
            "48000/48000 [==============================] - 1s 27us/sample - loss: 0.3910 - acc: 0.8661 - val_loss: 0.4058 - val_acc: 0.8612\n",
            "Epoch 38/100\n",
            "48000/48000 [==============================] - 1s 27us/sample - loss: 0.3891 - acc: 0.8671 - val_loss: 0.4050 - val_acc: 0.8608\n",
            "Epoch 39/100\n",
            "48000/48000 [==============================] - 1s 27us/sample - loss: 0.3872 - acc: 0.8681 - val_loss: 0.4024 - val_acc: 0.8607\n",
            "Epoch 40/100\n",
            "48000/48000 [==============================] - 1s 27us/sample - loss: 0.3856 - acc: 0.8680 - val_loss: 0.4024 - val_acc: 0.8614\n",
            "Epoch 41/100\n",
            "48000/48000 [==============================] - 1s 27us/sample - loss: 0.3836 - acc: 0.8686 - val_loss: 0.3993 - val_acc: 0.8626\n",
            "Epoch 42/100\n",
            "48000/48000 [==============================] - 1s 27us/sample - loss: 0.3820 - acc: 0.8691 - val_loss: 0.4035 - val_acc: 0.8598\n",
            "Epoch 43/100\n",
            "48000/48000 [==============================] - 1s 27us/sample - loss: 0.3807 - acc: 0.8702 - val_loss: 0.3970 - val_acc: 0.8628\n",
            "Epoch 44/100\n",
            "48000/48000 [==============================] - 1s 27us/sample - loss: 0.3786 - acc: 0.8705 - val_loss: 0.3955 - val_acc: 0.8629\n",
            "Epoch 45/100\n",
            "48000/48000 [==============================] - 1s 27us/sample - loss: 0.3770 - acc: 0.8714 - val_loss: 0.3943 - val_acc: 0.8649\n",
            "Epoch 46/100\n",
            "48000/48000 [==============================] - 1s 27us/sample - loss: 0.3756 - acc: 0.8711 - val_loss: 0.3944 - val_acc: 0.8642\n",
            "Epoch 47/100\n",
            "48000/48000 [==============================] - 1s 26us/sample - loss: 0.3740 - acc: 0.8716 - val_loss: 0.3955 - val_acc: 0.8641\n",
            "Epoch 48/100\n",
            "48000/48000 [==============================] - 1s 27us/sample - loss: 0.3720 - acc: 0.8730 - val_loss: 0.3928 - val_acc: 0.8638\n",
            "Epoch 49/100\n",
            "48000/48000 [==============================] - 1s 27us/sample - loss: 0.3709 - acc: 0.8729 - val_loss: 0.3907 - val_acc: 0.8632\n",
            "Epoch 50/100\n",
            "48000/48000 [==============================] - 1s 27us/sample - loss: 0.3694 - acc: 0.8730 - val_loss: 0.3916 - val_acc: 0.8647\n",
            "Epoch 51/100\n",
            "48000/48000 [==============================] - 1s 28us/sample - loss: 0.3682 - acc: 0.8737 - val_loss: 0.3902 - val_acc: 0.8652\n",
            "Epoch 52/100\n",
            "48000/48000 [==============================] - 1s 27us/sample - loss: 0.3666 - acc: 0.8738 - val_loss: 0.3878 - val_acc: 0.8658\n",
            "Epoch 53/100\n",
            "48000/48000 [==============================] - 1s 26us/sample - loss: 0.3656 - acc: 0.8746 - val_loss: 0.3854 - val_acc: 0.8664\n",
            "Epoch 54/100\n",
            "48000/48000 [==============================] - 1s 29us/sample - loss: 0.3642 - acc: 0.8751 - val_loss: 0.3861 - val_acc: 0.8664\n",
            "Epoch 55/100\n",
            "48000/48000 [==============================] - 1s 29us/sample - loss: 0.3629 - acc: 0.8755 - val_loss: 0.3864 - val_acc: 0.8667\n",
            "Epoch 56/100\n",
            "48000/48000 [==============================] - 1s 29us/sample - loss: 0.3611 - acc: 0.8767 - val_loss: 0.3878 - val_acc: 0.8658\n",
            "Epoch 57/100\n",
            "48000/48000 [==============================] - 1s 28us/sample - loss: 0.3602 - acc: 0.8763 - val_loss: 0.3814 - val_acc: 0.8682\n",
            "Epoch 58/100\n",
            "48000/48000 [==============================] - 1s 26us/sample - loss: 0.3590 - acc: 0.8762 - val_loss: 0.3843 - val_acc: 0.8657\n",
            "Epoch 59/100\n",
            "48000/48000 [==============================] - 1s 26us/sample - loss: 0.3576 - acc: 0.8769 - val_loss: 0.3797 - val_acc: 0.8681\n",
            "Epoch 60/100\n",
            "48000/48000 [==============================] - 1s 26us/sample - loss: 0.3562 - acc: 0.8778 - val_loss: 0.3819 - val_acc: 0.8663\n",
            "Epoch 61/100\n",
            "48000/48000 [==============================] - 1s 26us/sample - loss: 0.3551 - acc: 0.8783 - val_loss: 0.3807 - val_acc: 0.8662\n",
            "Epoch 62/100\n",
            "48000/48000 [==============================] - 1s 26us/sample - loss: 0.3540 - acc: 0.8785 - val_loss: 0.3793 - val_acc: 0.8683\n",
            "Epoch 63/100\n",
            "48000/48000 [==============================] - 1s 27us/sample - loss: 0.3526 - acc: 0.8785 - val_loss: 0.3776 - val_acc: 0.8693\n",
            "Epoch 64/100\n",
            "48000/48000 [==============================] - 1s 26us/sample - loss: 0.3514 - acc: 0.8791 - val_loss: 0.3795 - val_acc: 0.8687\n",
            "Epoch 65/100\n",
            "48000/48000 [==============================] - 1s 26us/sample - loss: 0.3506 - acc: 0.8794 - val_loss: 0.3755 - val_acc: 0.8690\n",
            "Epoch 66/100\n",
            "48000/48000 [==============================] - 1s 26us/sample - loss: 0.3489 - acc: 0.8798 - val_loss: 0.3771 - val_acc: 0.8684\n",
            "Epoch 67/100\n",
            "48000/48000 [==============================] - 1s 26us/sample - loss: 0.3479 - acc: 0.8798 - val_loss: 0.3740 - val_acc: 0.8697\n",
            "Epoch 68/100\n",
            "48000/48000 [==============================] - 1s 26us/sample - loss: 0.3472 - acc: 0.8808 - val_loss: 0.3739 - val_acc: 0.8687\n",
            "Epoch 69/100\n",
            "48000/48000 [==============================] - 1s 27us/sample - loss: 0.3463 - acc: 0.8804 - val_loss: 0.3727 - val_acc: 0.8687\n",
            "Epoch 70/100\n",
            "48000/48000 [==============================] - 1s 26us/sample - loss: 0.3447 - acc: 0.8810 - val_loss: 0.3730 - val_acc: 0.8684\n",
            "Epoch 71/100\n",
            "48000/48000 [==============================] - 1s 26us/sample - loss: 0.3438 - acc: 0.8810 - val_loss: 0.3708 - val_acc: 0.8707\n",
            "Epoch 72/100\n",
            "48000/48000 [==============================] - 1s 26us/sample - loss: 0.3424 - acc: 0.8821 - val_loss: 0.3716 - val_acc: 0.8704\n",
            "Epoch 73/100\n",
            "48000/48000 [==============================] - 1s 27us/sample - loss: 0.3417 - acc: 0.8816 - val_loss: 0.3734 - val_acc: 0.8704\n",
            "Epoch 74/100\n",
            "48000/48000 [==============================] - 1s 27us/sample - loss: 0.3403 - acc: 0.8830 - val_loss: 0.3686 - val_acc: 0.8702\n",
            "Epoch 75/100\n",
            "48000/48000 [==============================] - 1s 27us/sample - loss: 0.3400 - acc: 0.8823 - val_loss: 0.3681 - val_acc: 0.8717\n",
            "Epoch 76/100\n",
            "48000/48000 [==============================] - 1s 27us/sample - loss: 0.3389 - acc: 0.8832 - val_loss: 0.3678 - val_acc: 0.8712\n",
            "Epoch 77/100\n",
            "48000/48000 [==============================] - 1s 26us/sample - loss: 0.3375 - acc: 0.8832 - val_loss: 0.3683 - val_acc: 0.8706\n",
            "Epoch 78/100\n",
            "48000/48000 [==============================] - 1s 26us/sample - loss: 0.3368 - acc: 0.8835 - val_loss: 0.3667 - val_acc: 0.8722\n",
            "Epoch 79/100\n",
            "48000/48000 [==============================] - 1s 26us/sample - loss: 0.3356 - acc: 0.8837 - val_loss: 0.3652 - val_acc: 0.8715\n",
            "Epoch 80/100\n",
            "48000/48000 [==============================] - 1s 27us/sample - loss: 0.3350 - acc: 0.8843 - val_loss: 0.3656 - val_acc: 0.8716\n",
            "Epoch 81/100\n",
            "48000/48000 [==============================] - 1s 27us/sample - loss: 0.3339 - acc: 0.8851 - val_loss: 0.3642 - val_acc: 0.8723\n",
            "Epoch 82/100\n",
            "48000/48000 [==============================] - 1s 27us/sample - loss: 0.3330 - acc: 0.8856 - val_loss: 0.3685 - val_acc: 0.8717\n",
            "Epoch 83/100\n",
            "48000/48000 [==============================] - 1s 27us/sample - loss: 0.3324 - acc: 0.8851 - val_loss: 0.3653 - val_acc: 0.8709\n",
            "Epoch 84/100\n",
            "48000/48000 [==============================] - 1s 27us/sample - loss: 0.3312 - acc: 0.8852 - val_loss: 0.3639 - val_acc: 0.8723\n",
            "Epoch 85/100\n",
            "48000/48000 [==============================] - 1s 27us/sample - loss: 0.3303 - acc: 0.8852 - val_loss: 0.3616 - val_acc: 0.8732\n",
            "Epoch 86/100\n",
            "48000/48000 [==============================] - 1s 27us/sample - loss: 0.3294 - acc: 0.8861 - val_loss: 0.3619 - val_acc: 0.8723\n",
            "Epoch 87/100\n",
            "48000/48000 [==============================] - 1s 27us/sample - loss: 0.3283 - acc: 0.8871 - val_loss: 0.3627 - val_acc: 0.8715\n",
            "Epoch 88/100\n",
            "48000/48000 [==============================] - 1s 27us/sample - loss: 0.3270 - acc: 0.8864 - val_loss: 0.3624 - val_acc: 0.8712\n",
            "Epoch 89/100\n",
            "48000/48000 [==============================] - 1s 27us/sample - loss: 0.3264 - acc: 0.8867 - val_loss: 0.3635 - val_acc: 0.8708\n",
            "Epoch 90/100\n",
            "48000/48000 [==============================] - 1s 27us/sample - loss: 0.3260 - acc: 0.8867 - val_loss: 0.3605 - val_acc: 0.8727\n",
            "Epoch 91/100\n",
            "48000/48000 [==============================] - 1s 27us/sample - loss: 0.3250 - acc: 0.8871 - val_loss: 0.3583 - val_acc: 0.8748\n",
            "Epoch 92/100\n",
            "48000/48000 [==============================] - 1s 26us/sample - loss: 0.3237 - acc: 0.8879 - val_loss: 0.3612 - val_acc: 0.8722\n",
            "Epoch 93/100\n",
            "48000/48000 [==============================] - 1s 26us/sample - loss: 0.3234 - acc: 0.8876 - val_loss: 0.3593 - val_acc: 0.8735\n",
            "Epoch 94/100\n",
            "48000/48000 [==============================] - 1s 27us/sample - loss: 0.3223 - acc: 0.8876 - val_loss: 0.3570 - val_acc: 0.8741\n",
            "Epoch 95/100\n",
            "48000/48000 [==============================] - 1s 26us/sample - loss: 0.3214 - acc: 0.8876 - val_loss: 0.3583 - val_acc: 0.8753\n",
            "Epoch 96/100\n",
            "48000/48000 [==============================] - 1s 26us/sample - loss: 0.3211 - acc: 0.8880 - val_loss: 0.3560 - val_acc: 0.8758\n",
            "Epoch 97/100\n",
            "48000/48000 [==============================] - 1s 27us/sample - loss: 0.3201 - acc: 0.8892 - val_loss: 0.3583 - val_acc: 0.8761\n",
            "Epoch 98/100\n",
            "48000/48000 [==============================] - 1s 27us/sample - loss: 0.3190 - acc: 0.8897 - val_loss: 0.3615 - val_acc: 0.8730\n",
            "Epoch 99/100\n",
            "48000/48000 [==============================] - 1s 26us/sample - loss: 0.3183 - acc: 0.8892 - val_loss: 0.3547 - val_acc: 0.8743\n",
            "Epoch 100/100\n",
            "48000/48000 [==============================] - 1s 26us/sample - loss: 0.3175 - acc: 0.8891 - val_loss: 0.3550 - val_acc: 0.8754\n"
          ],
          "name": "stdout"
        },
        {
          "output_type": "execute_result",
          "data": {
            "text/plain": [
              "<tensorflow.python.keras.callbacks.History at 0x7f0b91b0b6a0>"
            ]
          },
          "metadata": {
            "tags": []
          },
          "execution_count": 48
        }
      ]
    },
    {
      "cell_type": "markdown",
      "metadata": {
        "colab_type": "text",
        "id": "HZR-U1N9YSX6"
      },
      "source": [
        "Обученную сеть так же можно сохранить для дальнейшего использоавния, чтобы не тратить постоянно время на обучение:"
      ]
    },
    {
      "cell_type": "code",
      "metadata": {
        "colab_type": "code",
        "id": "GeB94cATYOkf",
        "colab": {}
      },
      "source": [
        "model.save('fashion_mnist_dense.h5')"
      ],
      "execution_count": 0,
      "outputs": []
    },
    {
      "cell_type": "markdown",
      "metadata": {
        "colab_type": "text",
        "id": "ER29tMRhlo4G"
      },
      "source": [
        "Тогда загрузить ее можно таким образом:"
      ]
    },
    {
      "cell_type": "code",
      "metadata": {
        "colab_type": "code",
        "id": "xEfWfgmZloAT",
        "colab": {}
      },
      "source": [
        "from tensorflow.keras.models import load_model\n",
        "new_model = load_model('fashion_mnist_dense.h5')"
      ],
      "execution_count": 0,
      "outputs": []
    },
    {
      "cell_type": "markdown",
      "metadata": {
        "colab_type": "text",
        "id": "cHYnggDncQvG"
      },
      "source": [
        "##5. Оценка качества обучения"
      ]
    },
    {
      "cell_type": "markdown",
      "metadata": {
        "colab_type": "text",
        "id": "EeH_1NRCccNo"
      },
      "source": [
        "Для начала посмотрим на значения val_acc  в выводе выше. Можно заметить, что в начале обучения точность растет, но к концу начинает то подниматься, то опускаться (97-100 эпохи).  Это один из явных признаков переобучения.\n",
        "Еще если val_loss ошибка увеличивается, а loss уменьшается, это также говорит о переобучении.\n",
        "\n",
        "Также давайте используем наш тестовый датасет для предсказания и выведем точность (здесь выводится самый простой вариант определения точности, однако не самый лучший):"
      ]
    },
    {
      "cell_type": "code",
      "metadata": {
        "colab_type": "code",
        "id": "Vcoe-sH0c7ze",
        "colab": {
          "base_uri": "https://localhost:8080/",
          "height": 34
        },
        "outputId": "3163f788-2a4e-4f1e-903e-7cffd7ebf7ac"
      },
      "source": [
        "scores = model.evaluate(X_test, y_test, verbose=1)"
      ],
      "execution_count": 51,
      "outputs": [
        {
          "output_type": "stream",
          "text": [
            "10000/10000 [==============================] - 1s 79us/sample - loss: 0.3791 - acc: 0.8665\n"
          ],
          "name": "stdout"
        }
      ]
    },
    {
      "cell_type": "code",
      "metadata": {
        "colab_type": "code",
        "id": "sHDNtw9dc7zk",
        "colab": {
          "base_uri": "https://localhost:8080/",
          "height": 34
        },
        "outputId": "83c1030a-b835-4744-93ef-edb872e92285"
      },
      "source": [
        "print(\"Доля верных ответов на тестовых данных, в процентах:\", round(scores[1] * 100, 4))"
      ],
      "execution_count": 52,
      "outputs": [
        {
          "output_type": "stream",
          "text": [
            "Доля верных ответов на тестовых данных, в процентах: 86.65\n"
          ],
          "name": "stdout"
        }
      ]
    },
    {
      "cell_type": "markdown",
      "metadata": {
        "colab_type": "text",
        "id": "HNENk4h2ey6E"
      },
      "source": [
        "Вы можете загружать собственные картинки в нейронную сеть, но посмотрим для примера распознавание одной картинки из тестового датасета (например 354ой):"
      ]
    },
    {
      "cell_type": "code",
      "metadata": {
        "colab_type": "code",
        "id": "oIRuV6oue46F",
        "colab": {
          "base_uri": "https://localhost:8080/",
          "height": 265
        },
        "outputId": "a735b16a-c075-47b3-81fb-2e5e4edac839"
      },
      "source": [
        "plt.imshow(X_test[354].reshape(28, 28), cmap=plt.cm.binary)\n",
        "plt.show()"
      ],
      "execution_count": 53,
      "outputs": [
        {
          "output_type": "display_data",
          "data": {
            "image/png": "[encoded data removed]",
            "text/plain": [
              "<Figure size 432x288 with 1 Axes>"
            ]
          },
          "metadata": {
            "tags": []
          }
        }
      ]
    },
    {
      "cell_type": "markdown",
      "metadata": {
        "colab_type": "text",
        "id": "ia6eAU5eh7yY"
      },
      "source": [
        "Предскажем класс изображения, передав в predict 354ую картинку из тестового набора X, с преобразованной размерностью (np.expand_dims)"
      ]
    },
    {
      "cell_type": "code",
      "metadata": {
        "colab_type": "code",
        "id": "IkzQLU2Pe46L",
        "colab": {}
      },
      "source": [
        "prediction = model.predict(np.expand_dims(X_test[354], axis=0))"
      ],
      "execution_count": 0,
      "outputs": []
    },
    {
      "cell_type": "code",
      "metadata": {
        "colab_type": "code",
        "id": "QEWSpvTve46M",
        "colab": {
          "base_uri": "https://localhost:8080/",
          "height": 68
        },
        "outputId": "d9d3073b-c2ec-4b02-b4a4-25d7abeb9a72"
      },
      "source": [
        "prediction"
      ],
      "execution_count": 55,
      "outputs": [
        {
          "output_type": "execute_result",
          "data": {
            "text/plain": [
              "array([[1.5555759e-01, 3.0522147e-04, 1.4832080e-02, 1.4116846e-01,\n",
              "        3.3127155e-02, 6.6951480e-07, 6.5084672e-01, 2.4711373e-06,\n",
              "        4.1583139e-03, 1.2887119e-06]], dtype=float32)"
            ]
          },
          "metadata": {
            "tags": []
          },
          "execution_count": 55
        }
      ]
    },
    {
      "cell_type": "markdown",
      "metadata": {
        "colab_type": "text",
        "id": "cri8B428iRA2"
      },
      "source": [
        "Выведем предсказанный класс и реальный класс:"
      ]
    },
    {
      "cell_type": "code",
      "metadata": {
        "colab_type": "code",
        "id": "OATW0Iywe46N",
        "colab": {
          "base_uri": "https://localhost:8080/",
          "height": 34
        },
        "outputId": "d3e9b850-74cb-4fa0-8027-ba14da7b0200"
      },
      "source": [
        "prediction = np.argmax(prediction[0])\n",
        "print(\"Это изображение предсказано как\", prediction, \"класс, то есть это\", classes[prediction])\n"
      ],
      "execution_count": 56,
      "outputs": [
        {
          "output_type": "stream",
          "text": [
            "Это изображение предсказано как 6 класс, то есть это рубашка\n"
          ],
          "name": "stdout"
        }
      ]
    },
    {
      "cell_type": "code",
      "metadata": {
        "colab_type": "code",
        "id": "T_C0z-gEe46P",
        "colab": {
          "base_uri": "https://localhost:8080/",
          "height": 34
        },
        "outputId": "48beb09c-ed16-4130-f941-bdc65f7309ac"
      },
      "source": [
        "label = np.argmax(y_test[354])\n",
        "print(\"Это изображение является\", label, \"классом, то есть это\",  classes[label])"
      ],
      "execution_count": 57,
      "outputs": [
        {
          "output_type": "stream",
          "text": [
            "Это изображение является 6 классом, то есть это рубашка\n"
          ],
          "name": "stdout"
        }
      ]
    },
    {
      "cell_type": "markdown",
      "metadata": {
        "colab_type": "text",
        "id": "ea6MMwfvjL1V"
      },
      "source": [
        "##6. Увеличение качества обучения"
      ]
    },
    {
      "cell_type": "markdown",
      "metadata": {
        "colab_type": "text",
        "id": "bT-Bgoo5jMcO"
      },
      "source": [
        "Для увеличения точности работы нейронной сети можно изменять ее параметры.\n",
        "Основыными параметрами для изменения являются:\n",
        "1. Количество эпох обучения.\n",
        "2. Размер мини-выборки.\n",
        "3. Количество нейронов входного слоя.\n",
        "4. Наличие скрытых слоев."
      ]
    },
    {
      "cell_type": "markdown",
      "metadata": {
        "colab_type": "text",
        "id": "miZrDD9-jMcQ"
      },
      "source": [
        "### Количество эпох обучения и размер мини выборки"
      ]
    },
    {
      "cell_type": "markdown",
      "metadata": {
        "colab_type": "text",
        "id": "8EpNzxZ1jMcQ"
      },
      "source": [
        "Данные параметры задаются при обучении модели.\n"
      ]
    },
    {
      "cell_type": "code",
      "metadata": {
        "colab_type": "code",
        "id": "9Wlm-41hjMcR",
        "colab": {
          "base_uri": "https://localhost:8080/",
          "height": 1000
        },
        "outputId": "74a3b86a-88a0-4d4f-a0ca-c9e673c1ed01"
      },
      "source": [
        "history = model.fit(X_train, y_train, \n",
        "                    batch_size=200,        # Размер мини-выборки\n",
        "                    epochs=100,            # Количество эпох\n",
        "                    validation_split=0.2, \n",
        "                    verbose=1)"
      ],
      "execution_count": 58,
      "outputs": [
        {
          "output_type": "stream",
          "text": [
            "Train on 48000 samples, validate on 12000 samples\n",
            "Epoch 1/100\n",
            "48000/48000 [==============================] - 1s 27us/sample - loss: 0.3165 - acc: 0.8901 - val_loss: 0.3573 - val_acc: 0.8739\n",
            "Epoch 2/100\n",
            "48000/48000 [==============================] - 1s 27us/sample - loss: 0.3160 - acc: 0.8900 - val_loss: 0.3551 - val_acc: 0.8759\n",
            "Epoch 3/100\n",
            "48000/48000 [==============================] - 1s 27us/sample - loss: 0.3149 - acc: 0.8904 - val_loss: 0.3569 - val_acc: 0.8742\n",
            "Epoch 4/100\n",
            "48000/48000 [==============================] - 1s 26us/sample - loss: 0.3139 - acc: 0.8910 - val_loss: 0.3518 - val_acc: 0.8768\n",
            "Epoch 5/100\n",
            "48000/48000 [==============================] - 1s 26us/sample - loss: 0.3133 - acc: 0.8917 - val_loss: 0.3580 - val_acc: 0.8744\n",
            "Epoch 6/100\n",
            "48000/48000 [==============================] - 1s 27us/sample - loss: 0.3124 - acc: 0.8916 - val_loss: 0.3519 - val_acc: 0.8778\n",
            "Epoch 7/100\n",
            "48000/48000 [==============================] - 1s 27us/sample - loss: 0.3117 - acc: 0.8916 - val_loss: 0.3508 - val_acc: 0.8777\n",
            "Epoch 8/100\n",
            "48000/48000 [==============================] - 1s 26us/sample - loss: 0.3108 - acc: 0.8920 - val_loss: 0.3556 - val_acc: 0.8750\n",
            "Epoch 9/100\n",
            "48000/48000 [==============================] - 1s 27us/sample - loss: 0.3105 - acc: 0.8915 - val_loss: 0.3526 - val_acc: 0.8783\n",
            "Epoch 10/100\n",
            "48000/48000 [==============================] - 1s 27us/sample - loss: 0.3096 - acc: 0.8918 - val_loss: 0.3505 - val_acc: 0.8771\n",
            "Epoch 11/100\n",
            "48000/48000 [==============================] - 1s 27us/sample - loss: 0.3089 - acc: 0.8934 - val_loss: 0.3496 - val_acc: 0.8767\n",
            "Epoch 12/100\n",
            "48000/48000 [==============================] - 1s 26us/sample - loss: 0.3080 - acc: 0.8924 - val_loss: 0.3524 - val_acc: 0.8755\n",
            "Epoch 13/100\n",
            "48000/48000 [==============================] - 1s 27us/sample - loss: 0.3070 - acc: 0.8937 - val_loss: 0.3496 - val_acc: 0.8779\n",
            "Epoch 14/100\n",
            "48000/48000 [==============================] - 1s 27us/sample - loss: 0.3067 - acc: 0.8931 - val_loss: 0.3485 - val_acc: 0.8763\n",
            "Epoch 15/100\n",
            "48000/48000 [==============================] - 1s 26us/sample - loss: 0.3055 - acc: 0.8946 - val_loss: 0.3485 - val_acc: 0.8772\n",
            "Epoch 16/100\n",
            "48000/48000 [==============================] - 1s 26us/sample - loss: 0.3050 - acc: 0.8935 - val_loss: 0.3459 - val_acc: 0.8772\n",
            "Epoch 17/100\n",
            "48000/48000 [==============================] - 1s 26us/sample - loss: 0.3045 - acc: 0.8938 - val_loss: 0.3468 - val_acc: 0.8783\n",
            "Epoch 18/100\n",
            "48000/48000 [==============================] - 1s 26us/sample - loss: 0.3038 - acc: 0.8949 - val_loss: 0.3451 - val_acc: 0.8784\n",
            "Epoch 19/100\n",
            "48000/48000 [==============================] - 1s 27us/sample - loss: 0.3030 - acc: 0.8950 - val_loss: 0.3461 - val_acc: 0.8787\n",
            "Epoch 20/100\n",
            "48000/48000 [==============================] - 1s 26us/sample - loss: 0.3025 - acc: 0.8949 - val_loss: 0.3462 - val_acc: 0.8782\n",
            "Epoch 21/100\n",
            "48000/48000 [==============================] - 1s 27us/sample - loss: 0.3012 - acc: 0.8956 - val_loss: 0.3457 - val_acc: 0.8787\n",
            "Epoch 22/100\n",
            "48000/48000 [==============================] - 1s 27us/sample - loss: 0.3010 - acc: 0.8959 - val_loss: 0.3475 - val_acc: 0.8781\n",
            "Epoch 23/100\n",
            "48000/48000 [==============================] - 1s 27us/sample - loss: 0.3004 - acc: 0.8960 - val_loss: 0.3445 - val_acc: 0.8789\n",
            "Epoch 24/100\n",
            "48000/48000 [==============================] - 1s 27us/sample - loss: 0.2996 - acc: 0.8958 - val_loss: 0.3441 - val_acc: 0.8783\n",
            "Epoch 25/100\n",
            "48000/48000 [==============================] - 1s 26us/sample - loss: 0.2988 - acc: 0.8963 - val_loss: 0.3443 - val_acc: 0.8783\n",
            "Epoch 26/100\n",
            "48000/48000 [==============================] - 1s 27us/sample - loss: 0.2976 - acc: 0.8972 - val_loss: 0.3439 - val_acc: 0.8782\n",
            "Epoch 27/100\n",
            "48000/48000 [==============================] - 1s 27us/sample - loss: 0.2974 - acc: 0.8965 - val_loss: 0.3463 - val_acc: 0.8777\n",
            "Epoch 28/100\n",
            "48000/48000 [==============================] - 1s 26us/sample - loss: 0.2969 - acc: 0.8964 - val_loss: 0.3458 - val_acc: 0.8786\n",
            "Epoch 29/100\n",
            "48000/48000 [==============================] - 1s 27us/sample - loss: 0.2960 - acc: 0.8969 - val_loss: 0.3435 - val_acc: 0.8789\n",
            "Epoch 30/100\n",
            "48000/48000 [==============================] - 1s 28us/sample - loss: 0.2952 - acc: 0.8978 - val_loss: 0.3423 - val_acc: 0.8792\n",
            "Epoch 31/100\n",
            "48000/48000 [==============================] - 1s 29us/sample - loss: 0.2945 - acc: 0.8980 - val_loss: 0.3442 - val_acc: 0.8778\n",
            "Epoch 32/100\n",
            "48000/48000 [==============================] - 1s 29us/sample - loss: 0.2940 - acc: 0.8979 - val_loss: 0.3409 - val_acc: 0.8791\n",
            "Epoch 33/100\n",
            "48000/48000 [==============================] - 1s 29us/sample - loss: 0.2935 - acc: 0.8982 - val_loss: 0.3402 - val_acc: 0.8817\n",
            "Epoch 34/100\n",
            "48000/48000 [==============================] - 1s 29us/sample - loss: 0.2928 - acc: 0.8986 - val_loss: 0.3400 - val_acc: 0.8799\n",
            "Epoch 35/100\n",
            "48000/48000 [==============================] - 1s 29us/sample - loss: 0.2918 - acc: 0.8985 - val_loss: 0.3423 - val_acc: 0.8796\n",
            "Epoch 36/100\n",
            "48000/48000 [==============================] - 1s 29us/sample - loss: 0.2910 - acc: 0.8994 - val_loss: 0.3439 - val_acc: 0.8795\n",
            "Epoch 37/100\n",
            "48000/48000 [==============================] - 1s 28us/sample - loss: 0.2907 - acc: 0.8991 - val_loss: 0.3394 - val_acc: 0.8803\n",
            "Epoch 38/100\n",
            "48000/48000 [==============================] - 1s 26us/sample - loss: 0.2897 - acc: 0.8998 - val_loss: 0.3425 - val_acc: 0.8800\n",
            "Epoch 39/100\n",
            "48000/48000 [==============================] - 1s 26us/sample - loss: 0.2894 - acc: 0.8994 - val_loss: 0.3380 - val_acc: 0.8817\n",
            "Epoch 40/100\n",
            "48000/48000 [==============================] - 1s 27us/sample - loss: 0.2887 - acc: 0.8999 - val_loss: 0.3382 - val_acc: 0.8812\n",
            "Epoch 41/100\n",
            "48000/48000 [==============================] - 1s 26us/sample - loss: 0.2884 - acc: 0.8991 - val_loss: 0.3389 - val_acc: 0.8798\n",
            "Epoch 42/100\n",
            "48000/48000 [==============================] - 1s 26us/sample - loss: 0.2874 - acc: 0.9003 - val_loss: 0.3400 - val_acc: 0.8801\n",
            "Epoch 43/100\n",
            "48000/48000 [==============================] - 1s 26us/sample - loss: 0.2866 - acc: 0.9010 - val_loss: 0.3367 - val_acc: 0.8826\n",
            "Epoch 44/100\n",
            "48000/48000 [==============================] - 1s 26us/sample - loss: 0.2860 - acc: 0.9013 - val_loss: 0.3369 - val_acc: 0.8827\n",
            "Epoch 45/100\n",
            "48000/48000 [==============================] - 1s 27us/sample - loss: 0.2859 - acc: 0.9006 - val_loss: 0.3389 - val_acc: 0.8793\n",
            "Epoch 46/100\n",
            "48000/48000 [==============================] - 1s 26us/sample - loss: 0.2849 - acc: 0.9020 - val_loss: 0.3384 - val_acc: 0.8803\n",
            "Epoch 47/100\n",
            "48000/48000 [==============================] - 1s 26us/sample - loss: 0.2841 - acc: 0.9012 - val_loss: 0.3371 - val_acc: 0.8811\n",
            "Epoch 48/100\n",
            "48000/48000 [==============================] - 1s 27us/sample - loss: 0.2840 - acc: 0.9013 - val_loss: 0.3365 - val_acc: 0.8823\n",
            "Epoch 49/100\n",
            "48000/48000 [==============================] - 1s 27us/sample - loss: 0.2833 - acc: 0.9012 - val_loss: 0.3362 - val_acc: 0.8807\n",
            "Epoch 50/100\n",
            "48000/48000 [==============================] - 1s 26us/sample - loss: 0.2825 - acc: 0.9020 - val_loss: 0.3413 - val_acc: 0.8800\n",
            "Epoch 51/100\n",
            "48000/48000 [==============================] - 1s 26us/sample - loss: 0.2819 - acc: 0.9015 - val_loss: 0.3355 - val_acc: 0.8833\n",
            "Epoch 52/100\n",
            "48000/48000 [==============================] - 1s 27us/sample - loss: 0.2811 - acc: 0.9020 - val_loss: 0.3337 - val_acc: 0.8835\n",
            "Epoch 53/100\n",
            "48000/48000 [==============================] - 1s 27us/sample - loss: 0.2806 - acc: 0.9038 - val_loss: 0.3368 - val_acc: 0.8803\n",
            "Epoch 54/100\n",
            "48000/48000 [==============================] - 1s 26us/sample - loss: 0.2806 - acc: 0.9034 - val_loss: 0.3344 - val_acc: 0.8826\n",
            "Epoch 55/100\n",
            "48000/48000 [==============================] - 1s 27us/sample - loss: 0.2791 - acc: 0.9031 - val_loss: 0.3364 - val_acc: 0.8829\n",
            "Epoch 56/100\n",
            "48000/48000 [==============================] - 1s 27us/sample - loss: 0.2793 - acc: 0.9031 - val_loss: 0.3334 - val_acc: 0.8842\n",
            "Epoch 57/100\n",
            "48000/48000 [==============================] - 1s 26us/sample - loss: 0.2780 - acc: 0.9032 - val_loss: 0.3322 - val_acc: 0.8821\n",
            "Epoch 58/100\n",
            "48000/48000 [==============================] - 1s 26us/sample - loss: 0.2774 - acc: 0.9036 - val_loss: 0.3328 - val_acc: 0.8838\n",
            "Epoch 59/100\n",
            "48000/48000 [==============================] - 1s 27us/sample - loss: 0.2774 - acc: 0.9045 - val_loss: 0.3333 - val_acc: 0.8824\n",
            "Epoch 60/100\n",
            "48000/48000 [==============================] - 1s 26us/sample - loss: 0.2768 - acc: 0.9038 - val_loss: 0.3337 - val_acc: 0.8836\n",
            "Epoch 61/100\n",
            "48000/48000 [==============================] - 1s 26us/sample - loss: 0.2762 - acc: 0.9040 - val_loss: 0.3322 - val_acc: 0.8830\n",
            "Epoch 62/100\n",
            "48000/48000 [==============================] - 1s 26us/sample - loss: 0.2757 - acc: 0.9042 - val_loss: 0.3359 - val_acc: 0.8818\n",
            "Epoch 63/100\n",
            "48000/48000 [==============================] - 1s 26us/sample - loss: 0.2747 - acc: 0.9046 - val_loss: 0.3311 - val_acc: 0.8832\n",
            "Epoch 64/100\n",
            "48000/48000 [==============================] - 1s 26us/sample - loss: 0.2744 - acc: 0.9046 - val_loss: 0.3318 - val_acc: 0.8836\n",
            "Epoch 65/100\n",
            "48000/48000 [==============================] - 1s 26us/sample - loss: 0.2735 - acc: 0.9054 - val_loss: 0.3304 - val_acc: 0.8845\n",
            "Epoch 66/100\n",
            "48000/48000 [==============================] - 1s 27us/sample - loss: 0.2733 - acc: 0.9047 - val_loss: 0.3357 - val_acc: 0.8812\n",
            "Epoch 67/100\n",
            "48000/48000 [==============================] - 1s 27us/sample - loss: 0.2728 - acc: 0.9051 - val_loss: 0.3320 - val_acc: 0.8826\n",
            "Epoch 68/100\n",
            "48000/48000 [==============================] - 1s 27us/sample - loss: 0.2717 - acc: 0.9057 - val_loss: 0.3317 - val_acc: 0.8836\n",
            "Epoch 69/100\n",
            "48000/48000 [==============================] - 1s 27us/sample - loss: 0.2713 - acc: 0.9054 - val_loss: 0.3392 - val_acc: 0.8805\n",
            "Epoch 70/100\n",
            "48000/48000 [==============================] - 1s 26us/sample - loss: 0.2715 - acc: 0.9065 - val_loss: 0.3311 - val_acc: 0.8823\n",
            "Epoch 71/100\n",
            "48000/48000 [==============================] - 1s 26us/sample - loss: 0.2699 - acc: 0.9064 - val_loss: 0.3358 - val_acc: 0.8822\n",
            "Epoch 72/100\n",
            "48000/48000 [==============================] - 1s 27us/sample - loss: 0.2700 - acc: 0.9065 - val_loss: 0.3290 - val_acc: 0.8842\n",
            "Epoch 73/100\n",
            "48000/48000 [==============================] - 1s 27us/sample - loss: 0.2694 - acc: 0.9071 - val_loss: 0.3304 - val_acc: 0.8841\n",
            "Epoch 74/100\n",
            "48000/48000 [==============================] - 1s 27us/sample - loss: 0.2689 - acc: 0.9060 - val_loss: 0.3287 - val_acc: 0.8827\n",
            "Epoch 75/100\n",
            "48000/48000 [==============================] - 1s 26us/sample - loss: 0.2682 - acc: 0.9069 - val_loss: 0.3287 - val_acc: 0.8838\n",
            "Epoch 76/100\n",
            "48000/48000 [==============================] - 1s 27us/sample - loss: 0.2673 - acc: 0.9076 - val_loss: 0.3294 - val_acc: 0.8850\n",
            "Epoch 77/100\n",
            "48000/48000 [==============================] - 1s 27us/sample - loss: 0.2673 - acc: 0.9069 - val_loss: 0.3273 - val_acc: 0.8854\n",
            "Epoch 78/100\n",
            "48000/48000 [==============================] - 1s 26us/sample - loss: 0.2663 - acc: 0.9078 - val_loss: 0.3284 - val_acc: 0.8842\n",
            "Epoch 79/100\n",
            "48000/48000 [==============================] - 1s 26us/sample - loss: 0.2657 - acc: 0.9075 - val_loss: 0.3265 - val_acc: 0.8850\n",
            "Epoch 80/100\n",
            "48000/48000 [==============================] - 1s 26us/sample - loss: 0.2651 - acc: 0.9081 - val_loss: 0.3268 - val_acc: 0.8852\n",
            "Epoch 81/100\n",
            "48000/48000 [==============================] - 1s 27us/sample - loss: 0.2650 - acc: 0.9085 - val_loss: 0.3269 - val_acc: 0.8851\n",
            "Epoch 82/100\n",
            "48000/48000 [==============================] - 1s 26us/sample - loss: 0.2642 - acc: 0.9081 - val_loss: 0.3280 - val_acc: 0.8853\n",
            "Epoch 83/100\n",
            "48000/48000 [==============================] - 1s 26us/sample - loss: 0.2632 - acc: 0.9089 - val_loss: 0.3289 - val_acc: 0.8848\n",
            "Epoch 84/100\n",
            "48000/48000 [==============================] - 1s 26us/sample - loss: 0.2631 - acc: 0.9090 - val_loss: 0.3264 - val_acc: 0.8849\n",
            "Epoch 85/100\n",
            "48000/48000 [==============================] - 1s 27us/sample - loss: 0.2624 - acc: 0.9092 - val_loss: 0.3271 - val_acc: 0.8855\n",
            "Epoch 86/100\n",
            "48000/48000 [==============================] - 1s 27us/sample - loss: 0.2622 - acc: 0.9093 - val_loss: 0.3312 - val_acc: 0.8822\n",
            "Epoch 87/100\n",
            "48000/48000 [==============================] - 1s 26us/sample - loss: 0.2615 - acc: 0.9099 - val_loss: 0.3252 - val_acc: 0.8850\n",
            "Epoch 88/100\n",
            "48000/48000 [==============================] - 1s 27us/sample - loss: 0.2609 - acc: 0.9100 - val_loss: 0.3305 - val_acc: 0.8839\n",
            "Epoch 89/100\n",
            "48000/48000 [==============================] - 1s 27us/sample - loss: 0.2602 - acc: 0.9106 - val_loss: 0.3288 - val_acc: 0.8841\n",
            "Epoch 90/100\n",
            "48000/48000 [==============================] - 1s 26us/sample - loss: 0.2600 - acc: 0.9106 - val_loss: 0.3300 - val_acc: 0.8838\n",
            "Epoch 91/100\n",
            "48000/48000 [==============================] - 1s 26us/sample - loss: 0.2593 - acc: 0.9109 - val_loss: 0.3265 - val_acc: 0.8837\n",
            "Epoch 92/100\n",
            "48000/48000 [==============================] - 1s 27us/sample - loss: 0.2594 - acc: 0.9111 - val_loss: 0.3246 - val_acc: 0.8857\n",
            "Epoch 93/100\n",
            "48000/48000 [==============================] - 1s 27us/sample - loss: 0.2584 - acc: 0.9111 - val_loss: 0.3271 - val_acc: 0.8841\n",
            "Epoch 94/100\n",
            "48000/48000 [==============================] - 1s 26us/sample - loss: 0.2577 - acc: 0.9115 - val_loss: 0.3252 - val_acc: 0.8852\n",
            "Epoch 95/100\n",
            "48000/48000 [==============================] - 1s 26us/sample - loss: 0.2578 - acc: 0.9114 - val_loss: 0.3247 - val_acc: 0.8840\n",
            "Epoch 96/100\n",
            "48000/48000 [==============================] - 1s 26us/sample - loss: 0.2570 - acc: 0.9115 - val_loss: 0.3259 - val_acc: 0.8846\n",
            "Epoch 97/100\n",
            "48000/48000 [==============================] - 1s 26us/sample - loss: 0.2561 - acc: 0.9118 - val_loss: 0.3232 - val_acc: 0.8863\n",
            "Epoch 98/100\n",
            "48000/48000 [==============================] - 1s 26us/sample - loss: 0.2562 - acc: 0.9110 - val_loss: 0.3233 - val_acc: 0.8847\n",
            "Epoch 99/100\n",
            "48000/48000 [==============================] - 1s 27us/sample - loss: 0.2559 - acc: 0.9116 - val_loss: 0.3240 - val_acc: 0.8859\n",
            "Epoch 100/100\n",
            "48000/48000 [==============================] - 1s 27us/sample - loss: 0.2548 - acc: 0.9121 - val_loss: 0.3230 - val_acc: 0.8860\n"
          ],
          "name": "stdout"
        }
      ]
    },
    {
      "cell_type": "markdown",
      "metadata": {
        "colab_type": "text",
        "id": "nuULSuQ-jMcT"
      },
      "source": [
        "### Количество нейронов входного слоя"
      ]
    },
    {
      "cell_type": "markdown",
      "metadata": {
        "colab_type": "text",
        "id": "uo8rAF2sjMcT"
      },
      "source": [
        "Количество нейронов задается при создании входного слоя. Здесь оно 200."
      ]
    },
    {
      "cell_type": "code",
      "metadata": {
        "colab_type": "code",
        "id": "ju-o3QMCjMcU",
        "colab": {}
      },
      "source": [
        "model.add(Dense(200, input_dim=784, activation=\"relu\"))"
      ],
      "execution_count": 0,
      "outputs": []
    },
    {
      "cell_type": "markdown",
      "metadata": {
        "colab_type": "text",
        "id": "yhzNeiBljMcV"
      },
      "source": [
        "### Наличие скрытых слоев"
      ]
    },
    {
      "cell_type": "markdown",
      "metadata": {
        "colab_type": "text",
        "id": "VN7Pbrn3jMcW"
      },
      "source": [
        "Скрытыми слоями называются слои, находящиеся между входным и выходным. Они добавляются в последовательную модель, как и входной и выходной слой."
      ]
    },
    {
      "cell_type": "code",
      "metadata": {
        "colab_type": "code",
        "id": "HYN8liRkjMcW",
        "colab": {}
      },
      "source": [
        "model.add(Dense(800, input_dim=784, activation=\"relu\"))\n",
        "model.add(Dense(600, activation=\"relu\"))  # Новый скрытый слой\n",
        "model.add(Dense(10, activation=\"softmax\"))"
      ],
      "execution_count": 0,
      "outputs": []
    },
    {
      "cell_type": "markdown",
      "metadata": {
        "colab_type": "text",
        "id": "H2uGgoNcnThG"
      },
      "source": [
        "#Задание"
      ]
    },
    {
      "cell_type": "markdown",
      "metadata": {
        "colab_type": "text",
        "id": "jKjKpXAInYdZ"
      },
      "source": [
        "Возьмите созданную нейронную сеть, датасет fashion-mnist и попытайтесь улучшить точность обучения. Варианты для улучшения:\n",
        "1. Используйте разное количество нейронов на входном слое: 400, 600, 800, 1200.\n",
        "2. Добавьте в нейронную сеть скрытый слой с разным количеством нейронов: 200, 300, 400, 600, 800.\n",
        "3. Добавьте несколько скрытых слоев в сеть с разным количеством нейронов в каждом слое.\n",
        "4. Используйте разное количество эпох: 10, 15, 20, 25, 30.\n",
        "5. Используйте разные размеры мини-выборки (batch_size): 10, 50, 100, 200, 500.\n",
        "\n",
        "Опишите влияние (или его отсутствие) на точность работы вашей нейронной сети измененяемых параметров.\n",
        "\n",
        "Сохраните два варианта сети, при котором точность нейронной сети минимальна и максимальна, выведите точность и сделайте вывод о переобучении. Необходимо менять не менее трех параметров (то есть использовать не менее трех вариантов из списка выше). \n"
      ]
    },
    {
      "cell_type": "markdown",
      "metadata": {
        "id": "2l0UYIejx1XO",
        "colab_type": "text"
      },
      "source": [
        "# Выполнение задания\n"
      ]
    },
    {
      "cell_type": "code",
      "metadata": {
        "id": "Yop1-t2Gu8oV",
        "colab_type": "code",
        "colab": {}
      },
      "source": [
        "model = Sequential()"
      ],
      "execution_count": 0,
      "outputs": []
    },
    {
      "cell_type": "code",
      "metadata": {
        "id": "FDCpRTUJoTXt",
        "colab_type": "code",
        "colab": {
          "base_uri": "https://localhost:8080/",
          "height": 411
        },
        "outputId": "0aa4a9b8-2da9-4263-940f-300f7912ca4e"
      },
      "source": [
        "model.add(Dense(400, input_dim=784, activation=\"relu\"))   # 400 neurons\n",
        "model.add(Dense(10, activation=\"softmax\"))\n",
        "model.compile(loss=\"categorical_crossentropy\", optimizer=\"SGD\", metrics=[\"accuracy\"])\n",
        "model.fit(X_train, y_train, batch_size=10, epochs=10, validation_split=0.2, verbose=1) #batch_size=10 epochs=10"
      ],
      "execution_count": 80,
      "outputs": [
        {
          "output_type": "stream",
          "text": [
            "Train on 48000 samples, validate on 12000 samples\n",
            "Epoch 1/10\n",
            "48000/48000 [==============================] - 19s 386us/sample - loss: 0.6028 - acc: 0.7967 - val_loss: 0.4622 - val_acc: 0.8400\n",
            "Epoch 2/10\n",
            "48000/48000 [==============================] - 18s 385us/sample - loss: 0.4500 - acc: 0.8436 - val_loss: 0.4343 - val_acc: 0.8508\n",
            "Epoch 3/10\n",
            "48000/48000 [==============================] - 18s 382us/sample - loss: 0.4064 - acc: 0.8590 - val_loss: 0.3979 - val_acc: 0.8618\n",
            "Epoch 4/10\n",
            "48000/48000 [==============================] - 18s 384us/sample - loss: 0.3798 - acc: 0.8662 - val_loss: 0.4094 - val_acc: 0.8583\n",
            "Epoch 5/10\n",
            "48000/48000 [==============================] - 18s 383us/sample - loss: 0.3602 - acc: 0.8731 - val_loss: 0.3701 - val_acc: 0.8690\n",
            "Epoch 6/10\n",
            "48000/48000 [==============================] - 18s 383us/sample - loss: 0.3425 - acc: 0.8790 - val_loss: 0.3758 - val_acc: 0.8684\n",
            "Epoch 7/10\n",
            "48000/48000 [==============================] - 19s 390us/sample - loss: 0.3307 - acc: 0.8826 - val_loss: 0.3625 - val_acc: 0.8721\n",
            "Epoch 8/10\n",
            "48000/48000 [==============================] - 18s 382us/sample - loss: 0.3181 - acc: 0.8860 - val_loss: 0.3499 - val_acc: 0.8723\n",
            "Epoch 9/10\n",
            "48000/48000 [==============================] - 18s 385us/sample - loss: 0.3083 - acc: 0.8888 - val_loss: 0.3630 - val_acc: 0.8706\n",
            "Epoch 10/10\n",
            "48000/48000 [==============================] - 18s 384us/sample - loss: 0.2997 - acc: 0.8923 - val_loss: 0.3332 - val_acc: 0.8814\n"
          ],
          "name": "stdout"
        },
        {
          "output_type": "execute_result",
          "data": {
            "text/plain": [
              "<tensorflow.python.keras.callbacks.History at 0x7f0b915d4550>"
            ]
          },
          "metadata": {
            "tags": []
          },
          "execution_count": 80
        }
      ]
    },
    {
      "cell_type": "code",
      "metadata": {
        "id": "BVf4I_Q6oOkS",
        "colab_type": "code",
        "colab": {
          "base_uri": "https://localhost:8080/",
          "height": 34
        },
        "outputId": "ca20e7f6-c323-4ff9-d876-d7d9c7c5ea80"
      },
      "source": [
        "scores = model.evaluate(X_test, y_test, verbose=1)"
      ],
      "execution_count": 81,
      "outputs": [
        {
          "output_type": "stream",
          "text": [
            "10000/10000 [==============================] - 1s 80us/sample - loss: 0.3566 - acc: 0.8714\n"
          ],
          "name": "stdout"
        }
      ]
    },
    {
      "cell_type": "code",
      "metadata": {
        "id": "_0ufemFqwPyU",
        "colab_type": "code",
        "colab": {}
      },
      "source": [
        "model.save(\"400n-10batch-10epoch.h5\")"
      ],
      "execution_count": 0,
      "outputs": []
    },
    {
      "cell_type": "code",
      "metadata": {
        "id": "LnmSPFibwag-",
        "colab_type": "code",
        "colab": {
          "base_uri": "https://localhost:8080/",
          "height": 34
        },
        "outputId": "af63361c-d8c0-4a9b-a693-449f408195ac"
      },
      "source": [
        "model = Sequential()  \n",
        "model.add(Dense(600, input_dim=784, activation=\"relu\"))   # 600 neurons\n",
        "model.add(Dense(10, activation=\"softmax\"))\n",
        "model.compile(loss=\"categorical_crossentropy\", optimizer=\"SGD\", metrics=[\"accuracy\"])\n",
        "model.fit(X_train, y_train, batch_size=50, epochs=15, validation_split=0.2, verbose=0) #batch=50;epochs=15\n",
        "scores = model.evaluate(X_test, y_test, verbose=1)\n",
        "model.save(\"600n-50batch-15epoch.h5\")"
      ],
      "execution_count": 83,
      "outputs": [
        {
          "output_type": "stream",
          "text": [
            "10000/10000 [==============================] - 1s 81us/sample - loss: 0.4157 - acc: 0.8552\n"
          ],
          "name": "stdout"
        }
      ]
    },
    {
      "cell_type": "code",
      "metadata": {
        "id": "t1R6LWKcxIYy",
        "colab_type": "code",
        "colab": {
          "base_uri": "https://localhost:8080/",
          "height": 34
        },
        "outputId": "34a63342-e5fe-4d96-f02b-960ef1fd006e"
      },
      "source": [
        "model = Sequential()\n",
        "model.add(Dense(800, input_dim=784, activation=\"relu\"))   # 800 neurons\n",
        "model.add(Dense(10, activation=\"softmax\"))\n",
        "model.compile(loss=\"categorical_crossentropy\", optimizer=\"SGD\", metrics=[\"accuracy\"])\n",
        "model.fit(X_train, y_train, batch_size=100, epochs=20, validation_split=0.2, verbose=0) #batch=100;epochs=20\n",
        "scores = model.evaluate(X_test, y_test, verbose=1)\n",
        "model.save(\"800n-100batch-20epochs.h5\")"
      ],
      "execution_count": 84,
      "outputs": [
        {
          "output_type": "stream",
          "text": [
            "10000/10000 [==============================] - 1s 80us/sample - loss: 0.4350 - acc: 0.8488\n"
          ],
          "name": "stdout"
        }
      ]
    },
    {
      "cell_type": "code",
      "metadata": {
        "id": "VzSaXowvxgVZ",
        "colab_type": "code",
        "colab": {
          "base_uri": "https://localhost:8080/",
          "height": 34
        },
        "outputId": "bb9a57d5-aae0-4305-cb4c-9fd1b2c33594"
      },
      "source": [
        "model = Sequential()  \n",
        "model.add(Dense(1200, input_dim=784, activation=\"relu\"))   # 1200 neurons\n",
        "model.add(Dense(10, activation=\"softmax\"))\n",
        "model.compile(loss=\"categorical_crossentropy\", optimizer=\"SGD\", metrics=[\"accuracy\"])\n",
        "model.fit(X_train, y_train, batch_size=200, epochs=100, validation_split=0.2, verbose=0) #batch=200;epochs=25\n",
        "scores = model.evaluate(X_test, y_test, verbose=1)\n",
        "model.save(\"1200n-200batch-25epoch.h5\")"
      ],
      "execution_count": 85,
      "outputs": [
        {
          "output_type": "stream",
          "text": [
            "10000/10000 [==============================] - 1s 86us/sample - loss: 0.3766 - acc: 0.8692\n"
          ],
          "name": "stdout"
        }
      ]
    },
    {
      "cell_type": "code",
      "metadata": {
        "id": "6S9vt9QU2gJM",
        "colab_type": "code",
        "colab": {
          "base_uri": "https://localhost:8080/",
          "height": 34
        },
        "outputId": "5ca2d12f-6ed1-488c-f1a0-e4258f5012b5"
      },
      "source": [
        "model = Sequential()  \n",
        "model.add(Dense(1200, input_dim=784, activation=\"relu\"))   # 1200 neurons\n",
        "model.add(Dense(10, activation=\"softmax\"))\n",
        "model.compile(loss=\"categorical_crossentropy\", optimizer=\"SGD\", metrics=[\"accuracy\"])\n",
        "model.fit(X_train, y_train, batch_size=200, epochs=100, validation_split=0.2, verbose=0) #batch=500;epochs=30\n",
        "scores = model.evaluate(X_test, y_test, verbose=1)\n",
        "model.save(\"1200n-500batch-30epoch.h5\")"
      ],
      "execution_count": 86,
      "outputs": [
        {
          "output_type": "stream",
          "text": [
            "10000/10000 [==============================] - 1s 86us/sample - loss: 0.3761 - acc: 0.8673\n"
          ],
          "name": "stdout"
        }
      ]
    },
    {
      "cell_type": "markdown",
      "metadata": {
        "id": "kh17bRvH3Oon",
        "colab_type": "text"
      },
      "source": [
        "Как вывод, получаем такой результат:\n",
        "<hr>\n",
        "\n",
        "| Neurons | batch_size | epochs | acc    |\n",
        "| ------- | ---------- | ------ | ------ |\n",
        "| 400     | 10         | 10     | 0.8714 |\n",
        "| 600     | 50         | 15     | 0.8552 |\n",
        "| 800     | 100        | 20     | 0.8488 |\n",
        "| 1200    | 200        | 25     | 0.8692 |\n",
        "| 1200    | 500        | 30     | 0.8673 |\n",
        "\n",
        "<hr>\n"
      ]
    },
    {
      "cell_type": "code",
      "metadata": {
        "id": "pByn3kgr5lL1",
        "colab_type": "code",
        "colab": {}
      },
      "source": [
        ""
      ],
      "execution_count": 0,
      "outputs": []
    }
  ]
}