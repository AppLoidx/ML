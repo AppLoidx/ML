{
 "cells": [
  {
   "cell_type": "markdown",
   "metadata": {
    "colab_type": "text",
    "id": "IXelAlZrGs0o"
   },
   "source": [
    "#Сверточные нейронные сети (Convolutional Neural Network, CNN)"
   ]
  },
  {
   "cell_type": "markdown",
   "metadata": {
    "colab_type": "text",
    "id": "vpNGKmcJG27x"
   },
   "source": [
    "В прошлой работе мы разобрали структуру нейронной сети, а точнее прямо распространяющуюся нейронную сеть. В этот раз мы поговорим о другом типе нейронных сетей - сверточные. Возьмем двумерную сверточную сеть."
   ]
  },
  {
   "cell_type": "markdown",
   "metadata": {
    "colab_type": "text",
    "id": "-UdI3DDOHvLZ"
   },
   "source": [
    "Сверточные сети построены на операции свертки.\n",
    "\n",
    "Имеется ядро – небольшая матрица весов. Это ядро «скользит» по двумерным входным данным, выполняя поэлементное умножение для той части данных, которую сейчас покрывает. Результаты перемножений ячеек суммируются в одном выходном пикселе. В случае сверточных нейросетей ядро определяется в ходе обучения сети. \n",
    "\n",
    "Перемножение и суммирование повторяются для каждой локации, по которой проходит ядро. Двумерная матрица входных признаков преобразуется в двумерную матрицу выходных. Выходные признаки, таким образом, являются взвешенными суммами входных признаков. Число входных признаков в комбинации для одного выходного признака определяет размер ядра."
   ]
  },
  {
   "cell_type": "markdown",
   "metadata": {
    "colab_type": "text",
    "id": "zhxYG9QR2EqL"
   },
   "source": [
    "![convUrl](https://media.proglib.io/wp-uploads/2018/06/2.gif \"Convolution\")"
   ]
  },
  {
   "cell_type": "markdown",
   "metadata": {
    "colab_type": "text",
    "id": "WffTQbEm2ZU7"
   },
   "source": [
    "\n",
    "\n",
    "Если представить находящуюся выше матрицу 5х5 как картинку: матрицу интенсивности пикселей, где 0 это черный, а 3 это белый, а 1 и 2 темно-серый и светло-серый, то получим некоторую картинку, к которой применяем нашу свертку - квадрат 3х3. На данной картинке это квадрат со значениями 0,1,2,2,2,0,0,1,2. Применяем свертку, то есть перемножаем ячейки свертки и картинки. Например, для первой ячейки выходной матрицы:\n",
    "\n",
    "\n",
    "$3*0+3*1+2*2+0*2+0*2+1*0+3*0+1*1+2*2=12$\n",
    "\n",
    "В целом, мы подаем на вход картинку, а получаем на выходе рассчитанные по ней коэффициенты."
   ]
  },
  {
   "cell_type": "markdown",
   "metadata": {
    "colab_type": "text",
    "id": "vw2K1BACsVGb"
   },
   "source": [
    "# Многоканальность"
   ]
  },
  {
   "cell_type": "markdown",
   "metadata": {
    "colab_type": "text",
    "id": "ELbnCvKxsf02"
   },
   "source": [
    "Если раньше мы работали с черно-белыми изображениями, то в этот раз изображения цветные. Поэтому вместо одного канала мы теперь имеем три - по числу цветов RGB модели. "
   ]
  },
  {
   "cell_type": "markdown",
   "metadata": {
    "colab_type": "text",
    "id": "OHQIBdXDtZgj"
   },
   "source": [
    "![channelsUrl](https://neurohive.io/wp-content/uploads/2018/07/rgb-svertochnaja-neiroset.gif \"Сhannels\")"
   ]
  },
  {
   "cell_type": "markdown",
   "metadata": {
    "colab_type": "text",
    "id": "o7Tq2ULLtxWf"
   },
   "source": [
    "Свертка проходит по каждому из каналов, а затем суммирует их."
   ]
  },
  {
   "cell_type": "markdown",
   "metadata": {
    "colab_type": "text",
    "id": "oOSTXr6Btljn"
   },
   "source": [
    "![channelsSumUrl](https://neurohive.io/wp-content/uploads/2018/07/glubokaja-svertochnaja-neironnaja-set.gif \"Сhannels_Sum\")"
   ]
  },
  {
   "cell_type": "markdown",
   "metadata": {
    "colab_type": "text",
    "id": "yXzk_MMkt0ll"
   },
   "source": [
    "Таким образом,  нейронная сеть будет принимать на вход изображения размером nxn и 3 канала. Например, (150,150,3), как в нашей сети."
   ]
  },
  {
   "cell_type": "markdown",
   "metadata": {
    "colab_type": "text",
    "id": "ws06a1MgsGEi"
   },
   "source": [
    "# Pooling"
   ]
  },
  {
   "cell_type": "markdown",
   "metadata": {
    "colab_type": "text",
    "id": "TiqsKS2hsLoy"
   },
   "source": [
    "Еще один специальный слой, явяющийся подвыборочным. Он используется с целью уменьшения размерности предыдущего слоя. Если на предыдущей операции свертки уже были выявлены некоторые признаки, то для дальнейшей обработки настолько подробное изображение уже не нужно, и оно уплотняется до менее подробного. К тому же фильтрация уже ненужных деталей помогает не переобучаться.\n",
    "\n",
    "Чаще всего используется уменьшение изображения в два раза путем использования матрицы 2х2 через операцию взятия максимума."
   ]
  },
  {
   "cell_type": "markdown",
   "metadata": {
    "colab_type": "text",
    "id": "8Ozs7uuJwY15"
   },
   "source": [
    "# Теперь поговорим о предобученных сетях"
   ]
  },
  {
   "cell_type": "markdown",
   "metadata": {
    "colab_type": "text",
    "id": "yHHpP_7NwgTV"
   },
   "source": [
    "Обучение нейронной сети занимает не только много времени, но и требует большой размеченной выборки. Конечно, можно создавать свои сети с нуля и подбирать сеть для каждого конкретного случая. А можно упростить себе жизнь и взять для нашей задачи уже готовую нейронную сеть, обученную в течение долгого времени и показавшую хорошие результаты на своей задаче. Такая техника называется Transfer Learning или Перенос обучения.\n",
    "\n",
    "То есть, Transfer Learning - это процесс дообучения на новых данных какой-либо нейросети, уже обученной до этого на других данных, обычно на каком-нибудь хорошем, большом (миллионы картинок) датасете.\n",
    "\n",
    "Например, у нас есть сеть, хорошо распознающая самолет на картинке или танк. А мы хотим применить ее для распознавания кошек и собак. Так как на первых слоях нейронной сети происходит общая оценка изображения и мы не успеваем дойти до спецефичных признаков, мы можем использовать такую сеть для распознавания котов и собак.\n",
    "\n",
    "Есть три основных пути:\n",
    "* Взять предобученную на других данных нейронную сеть и просто предсказать наши картинки:\n",
    "\n",
    " +Не надо тратить время на обучение\n",
    "\n",
    " -Точность будет низкая для нашей задачи, если она сильно отличается\n",
    "\n",
    "* Взять предобученную на других данных нейронную сеть, добавить к ней новые слои и обучить только их\n",
    "\n",
    " +Сокращается время на обучение, происходит подгон под нашу задачу\n",
    "\n",
    " -Точность будет выше, однако добавление новых слоев может перегрузить сеть\n",
    "\n",
    "* Взять предобученную на других данных нейронную сеть, добавить новые слои. Но вместе с тем обучить не только новые слои, но и часть предобученной сети. Этот метод носит название Fine Tuning или Тонкая настройка.\n",
    "\n",
    " +Обучается не вся сеть, а только часть, отвечающая за специфичные признаки изображения\n",
    "\n",
    " -Точность должна возрасти, однако вероятно переобучение\n"
   ]
  },
  {
   "cell_type": "markdown",
   "metadata": {
    "colab_type": "text",
    "id": "KKHzuWHG0evx"
   },
   "source": [
    "В зависимости от количества и природы Ваших данных есть выбор из нескольких стратегий Transfer Learning, а именно:\n",
    "\n",
    "* *У Вас **мало данных** ($\\le$ 10k), и они **похожи** на данные, на которых была обучена сеть до этого*  \n",
    "\n",
    "Можно использовать просто готовую модель. Но если точность вышла низкая, можно использовать второй путь. Если применить Fine-Tuning (3 способ), то сеть может переобучиться, поскольку данных мало.\n",
    "* *У Вас **мало данных** ($\\le$ 10k), и они **не похожи** на данные, на которых была обучена сеть до этого*  \n",
    "\n",
    "Самый плохой вариант. Хорошим выходом будет второй вариант, но возможно придется выкинуть часть последних слоев преобученной сети и тогда уже добавить свой.\n",
    "* *У Вас **много данных** ($\\ge$ 10k), и они **похожи** на данные, на которых была обучена сеть до этого*  \n",
    "\n",
    "Fine Tuning здесь подходит больше всего.\n",
    "* *У Вас **много данных** ($\\ge$ 10k), и они **не похожи** на данные, на которых была обучена сеть до этого*\n",
    "\n",
    "Обычно здесь оставляют архитектуру сети и используют запомненные веса как начальные. А потом заново обучают всю сеть."
   ]
  },
  {
   "cell_type": "markdown",
   "metadata": {
    "colab_type": "text",
    "id": "XKVOY5WT29xU"
   },
   "source": [
    "Нашей стратегией в этой работе будет первый вариант."
   ]
  },
  {
   "cell_type": "markdown",
   "metadata": {
    "colab_type": "text",
    "id": "sSO4NFDLZhDF"
   },
   "source": [
    "# Предобученная сеть VGG-16"
   ]
  },
  {
   "cell_type": "markdown",
   "metadata": {
    "colab_type": "text",
    "id": "FiBRxnlMxgT8"
   },
   "source": [
    "VGG-16 — модель сверточной нейронной сети, предложенная K. Simonyan и A. Zisserman из Оксфордского университета в статье “Very Deep Convolutional Networks for Large-Scale Image Recognition”. Модель достигает точности 92.7% — топ-5, при тестировании ImageNet в задаче распознавания объектов на изображении. Этот датасет состоит из более чем 14 миллионов изображений, принадлежащих к 1000 классам."
   ]
  },
  {
   "cell_type": "markdown",
   "metadata": {
    "colab_type": "text",
    "id": "VGivCyLzaslA"
   },
   "source": [
    "Архитектуру данной сети вы можете увидеть на картинке.\n",
    "\n",
    "На момент создания VGG люди уже заметили, что чем больше слоев в нейросети, тем выше ее точность. Заменяя большие фильтры на несколько фильтров 3$\\times$3 исследователи получили глубокую нейросеть с меньшим количеством параметров. Архитектура VGG-16 (версии VGG с 16 слоями) представлена на картинке ниже:\n"
   ]
  },
  {
   "cell_type": "markdown",
   "metadata": {
    "colab_type": "text",
    "id": "jXXirCVqaslE"
   },
   "source": [
    "<img src=\"https://cdn-images-1.medium.com/max/1040/1*0Tk4JclhGOCR_uLe6RKvUQ.png\">"
   ]
  },
  {
   "cell_type": "markdown",
   "metadata": {
    "colab_type": "text",
    "id": "hyiBl5hsaslJ"
   },
   "source": [
    "Когда говорят VGG, то чаще всего имеют ввиду VGG-16 или VGG-19. Более глубоких версий VGG нет, так как после 19 слоев точность начинает падать."
   ]
  },
  {
   "cell_type": "markdown",
   "metadata": {
    "colab_type": "text",
    "id": "BRWqz65kGz1H"
   },
   "source": [
    "#Основные шаги по выполнению лабораторной работы"
   ]
  },
  {
   "cell_type": "markdown",
   "metadata": {
    "colab_type": "text",
    "id": "8BNBKwW8d7Ik"
   },
   "source": [
    "##Подготовка данных"
   ]
  },
  {
   "cell_type": "markdown",
   "metadata": {
    "colab_type": "text",
    "id": "36v49-4elSNS"
   },
   "source": [
    "Для начала работы подготовим данные"
   ]
  },
  {
   "cell_type": "markdown",
   "metadata": {
    "colab_type": "text",
    "id": "vBHKF8dWeCbB"
   },
   "source": [
    "Скачайте файл train.zip с набором изображений кошек и собак с сайта соревнования Kaggle [Dogs vs. Cats](https://www.kaggle.com/c/dogs-vs-cats/data) и распакуйте его. Создайте папку cat_dogs (нажиамем правой кнопкой где-нибудь в поле, где находится sample_data, нажимаем new folder) и сделайте upload для 500 снимков кошек (cat0.jpg-cat499.jpg) и 500 собак (dog0.jpg-dog499.jpg). \n",
    "\n",
    "Чем на большем объеме данных будет обучаться ваша сеть, тем лучше, но это так же сильно увеличит время обучения сети. В реальных задачах это нормально, если  обучение нейронной сети на большом объеме данных занимает более 12 часов.  При обучении на всех изображениях точность продемонстрированных ниже сетей будет достигать 97%.\n",
    "\n",
    "В рамках данной работы мы возьмем только 500 изображений, для экономии учебного времени."
   ]
  },
  {
   "cell_type": "markdown",
   "metadata": {
    "colab_type": "text",
    "id": "xu4nR89RlT75"
   },
   "source": [
    "Распределим эти фотографии по папкам: train, test и val. \n",
    "\n",
    "Каждая папка будет содержать две подпапки: cats и dogs."
   ]
  },
  {
   "cell_type": "code",
   "execution_count": 0,
   "metadata": {
    "colab": {},
    "colab_type": "code",
    "id": "7WlMsw3Zd_I-"
   },
   "outputs": [],
   "source": [
    "import shutil\n",
    "import os"
   ]
  },
  {
   "cell_type": "code",
   "execution_count": 0,
   "metadata": {
    "colab": {},
    "colab_type": "code",
    "id": "v5A2gTOfeO7Z"
   },
   "outputs": [],
   "source": [
    "# Каталог с набором данных\n",
    "data_dir = './cat_dogs/'\n",
    "# Каталог с данными для обучения\n",
    "train_dir = 'train'\n",
    "# Каталог с данными для проверки\n",
    "val_dir = 'val'\n",
    "# Каталог с данными для тестирования\n",
    "test_dir = 'test'\n",
    "# Часть набора данных для тестирования\n",
    "test_data_portion = 0.15\n",
    "# Часть набора данных для проверки\n",
    "val_data_portion = 0.15\n",
    "# Количество элементов данных в одном классе\n",
    "nb_images = 500"
   ]
  },
  {
   "cell_type": "markdown",
   "metadata": {
    "colab_type": "text",
    "id": "GCdpOq3Qlu6a"
   },
   "source": [
    "Функция создания каталога с двумя подкаталогами по названию классов: cats и dogs"
   ]
  },
  {
   "cell_type": "code",
   "execution_count": 0,
   "metadata": {
    "colab": {},
    "colab_type": "code",
    "id": "6aO_T8vYky5U"
   },
   "outputs": [],
   "source": [
    "def create_directory(dir_name):\n",
    "    if os.path.exists(dir_name):\n",
    "        shutil.rmtree(dir_name)\n",
    "    os.makedirs(dir_name)\n",
    "    os.makedirs(os.path.join(dir_name, \"cats\"))\n",
    "    os.makedirs(os.path.join(dir_name, \"dogs\"))"
   ]
  },
  {
   "cell_type": "markdown",
   "metadata": {
    "colab_type": "text",
    "id": "VmcuPGK8lymp"
   },
   "source": [
    "Создание структуры каталогов для обучающего, проверочного и тестового набора данных"
   ]
  },
  {
   "cell_type": "code",
   "execution_count": 0,
   "metadata": {
    "colab": {},
    "colab_type": "code",
    "id": "Dr3fie4uk3Au"
   },
   "outputs": [],
   "source": [
    "create_directory(train_dir)\n",
    "create_directory(val_dir)\n",
    "create_directory(test_dir)"
   ]
  },
  {
   "cell_type": "markdown",
   "metadata": {
    "colab_type": "text",
    "id": "0xUwnLmCl0uA"
   },
   "source": [
    "\n",
    "Функция копирования изображений в заданный каталог. Изображения котов и собак копируются в отдельные подкаталоги"
   ]
  },
  {
   "cell_type": "code",
   "execution_count": 0,
   "metadata": {
    "colab": {},
    "colab_type": "code",
    "id": "paGtIfMCk-Dk"
   },
   "outputs": [],
   "source": [
    "def copy_images(start_index, end_index, source_dir, dest_dir):\n",
    "    for i in range(start_index, end_index):\n",
    "        shutil.copy2(os.path.join(source_dir, \"cat.\" + str(i) + \".jpg\"), \n",
    "                    os.path.join(dest_dir, \"cats\"))\n",
    "        shutil.copy2(os.path.join(source_dir, \"dog.\" + str(i) + \".jpg\"), \n",
    "                   os.path.join(dest_dir, \"dogs\"))"
   ]
  },
  {
   "cell_type": "markdown",
   "metadata": {
    "colab_type": "text",
    "id": "fSgB_lVGl297"
   },
   "source": [
    "\n",
    "Расчет индексов наборов данных для обучения, проверки и тестирования"
   ]
  },
  {
   "cell_type": "code",
   "execution_count": 0,
   "metadata": {
    "colab": {},
    "colab_type": "code",
    "id": "clDnZ7i3lAAY"
   },
   "outputs": [],
   "source": [
    "start_val_data_idx = int(nb_images * (1 - val_data_portion - test_data_portion))\n",
    "start_test_data_idx = int(nb_images * (1 - test_data_portion))\n",
    "print(start_val_data_idx)\n",
    "print(start_test_data_idx)"
   ]
  },
  {
   "cell_type": "markdown",
   "metadata": {
    "colab_type": "text",
    "id": "G5A2Ks-AmHDr"
   },
   "source": [
    "Копирование изображений"
   ]
  },
  {
   "cell_type": "code",
   "execution_count": 0,
   "metadata": {
    "colab": {},
    "colab_type": "code",
    "id": "-I1T0i57lCUf"
   },
   "outputs": [],
   "source": [
    "copy_images(0, start_val_data_idx, data_dir, train_dir)\n",
    "copy_images(start_val_data_idx, start_test_data_idx, data_dir, val_dir)\n",
    "copy_images(start_test_data_idx, nb_images, data_dir, test_dir)"
   ]
  },
  {
   "cell_type": "markdown",
   "metadata": {
    "colab_type": "text",
    "id": "dDZMkIv4mDBB"
   },
   "source": [
    "## Создание нейронной сети на базе предварительно обученной нейронной сети VGG16"
   ]
  },
  {
   "cell_type": "markdown",
   "metadata": {
    "colab_type": "text",
    "id": "fijrMm_43PNg"
   },
   "source": [
    "Сеть VGG16 ранее обучалась на похожих изображениях. Поэтому мы попробуем два способа:\n",
    "* добавим свои слои к сети VGG16, но саму сеть обучать не будем\n",
    "* разморозим только последний слой сети VGG16 и обучим с новыми слоями"
   ]
  },
  {
   "cell_type": "markdown",
   "metadata": {
    "colab_type": "text",
    "id": "AVuVnIXmmYO_"
   },
   "source": [
    "### Импортируем необходимые библиотеки"
   ]
  },
  {
   "cell_type": "code",
   "execution_count": 0,
   "metadata": {
    "colab": {},
    "colab_type": "code",
    "id": "of2jctaTlFst"
   },
   "outputs": [],
   "source": [
    "from tensorflow.python.keras.preprocessing.image import ImageDataGenerator\n",
    "from tensorflow.python.keras.models import Sequential, Model\n",
    "from tensorflow.python.keras.layers import Activation, Dropout, Flatten, Dense\n",
    "from tensorflow.python.keras.applications import VGG16\n",
    "from tensorflow.python.keras.optimizers import Adam"
   ]
  },
  {
   "cell_type": "markdown",
   "metadata": {
    "colab_type": "text",
    "id": "hCRdvqBEmnL5"
   },
   "source": [
    "Определим оставшиеся константы:"
   ]
  },
  {
   "cell_type": "code",
   "execution_count": 0,
   "metadata": {
    "colab": {},
    "colab_type": "code",
    "id": "dRVEMD9mmqt8"
   },
   "outputs": [],
   "source": [
    "# Размеры изображения\n",
    "img_width, img_height = 150, 150\n",
    "# Размерность тензора на основе изображения для входных данных в нейронную сеть\n",
    "input_shape = (img_width, img_height, 3)\n",
    "# Размер мини-выборки\n",
    "batch_size = 64\n",
    "# Количество изображений для обучения\n",
    "nb_train_samples = 700\n",
    "# Количество изображений для проверки\n",
    "nb_validation_samples = 150\n",
    "# Количество изображений для тестирования\n",
    "nb_test_samples = 150"
   ]
  },
  {
   "cell_type": "markdown",
   "metadata": {
    "colab_type": "text",
    "id": "V1A1H5k3pmQk"
   },
   "source": [
    "Следующей строчкой мы загрузим предварительно обученную сеть VGG16. Сразу установим входную размерность, а именно 150 пикселей ширины на 150 пикселей выосоты на 3 канала цвета."
   ]
  },
  {
   "cell_type": "code",
   "execution_count": 0,
   "metadata": {
    "colab": {},
    "colab_type": "code",
    "id": "ULsV6Ua9paeh"
   },
   "outputs": [],
   "source": [
    "vgg16_net = VGG16(weights='imagenet', include_top=False, input_shape=(150, 150, 3))"
   ]
  },
  {
   "cell_type": "markdown",
   "metadata": {
    "colab_type": "text",
    "id": "syeEUTWdpv3V"
   },
   "source": [
    "\"Замораживаем\" веса предварительно обученной нейронной сети VGG16"
   ]
  },
  {
   "cell_type": "code",
   "execution_count": 0,
   "metadata": {
    "colab": {},
    "colab_type": "code",
    "id": "7OyKAKsvp1CA"
   },
   "outputs": [],
   "source": [
    "vgg16_net.trainable = False"
   ]
  },
  {
   "cell_type": "markdown",
   "metadata": {
    "colab_type": "text",
    "id": "-4BfTGV7p4hT"
   },
   "source": [
    "Посмотрим на структуру загруженной сети."
   ]
  },
  {
   "cell_type": "code",
   "execution_count": 0,
   "metadata": {
    "colab": {},
    "colab_type": "code",
    "id": "O-kFTd-Vp2ZH"
   },
   "outputs": [],
   "source": [
    "vgg16_net.summary()"
   ]
  },
  {
   "cell_type": "markdown",
   "metadata": {
    "colab_type": "text",
    "id": "IQeY63qWp-Lq"
   },
   "source": [
    "Теперь давайте добавим к имеющейся сети несколько новых слоев. Возьмем выходные данные VGG16 нейронной сети и подадим их на вход нашего нового слоя Flatten, который преобразует эти данные в одномерный вектор. \n",
    "\n",
    "Dense - это уже знакомый нам полносвязный слой. \n",
    "\n",
    "Дальше идет слой Dropout, который \"исключает\" заданный процент нейронов. “Исключение” нейрона означает, что при любых входных данных или параметрах он возвращает 0."
   ]
  },
  {
   "cell_type": "code",
   "execution_count": 0,
   "metadata": {
    "colab": {},
    "colab_type": "code",
    "id": "RYK_n8BSp3-h"
   },
   "outputs": [],
   "source": [
    "x = vgg16_net.output\n",
    "x = Flatten(name=\"flatten\")(x)\n",
    "x = Dense(256, activation=\"relu\")(x)\n",
    "x = Dropout(0.5)(x)\n",
    "predictions = Dense(1, activation=\"sigmoid\")(x)\n",
    "\n",
    "model = Model(inputs=vgg16_net.input, outputs=predictions)"
   ]
  },
  {
   "cell_type": "markdown",
   "metadata": {
    "colab_type": "text",
    "id": "bLEW79IvrTMB"
   },
   "source": [
    "Посмотрим на структуру получившейся составной сети. Мы можем увидеть новые слои в конце."
   ]
  },
  {
   "cell_type": "code",
   "execution_count": 0,
   "metadata": {
    "colab": {},
    "colab_type": "code",
    "id": "rm5oylmHrSt0"
   },
   "outputs": [],
   "source": [
    "model.summary()"
   ]
  },
  {
   "cell_type": "code",
   "execution_count": 0,
   "metadata": {
    "colab": {},
    "colab_type": "code",
    "id": "Pam3-x0ErZ2n"
   },
   "outputs": [],
   "source": [
    "model.compile(loss='binary_crossentropy',\n",
    "              optimizer=Adam(lr=1e-5), \n",
    "              metrics=['accuracy'])"
   ]
  },
  {
   "cell_type": "markdown",
   "metadata": {
    "colab_type": "text",
    "id": "8zy3cvLfsC3c"
   },
   "source": [
    "### Создаем генератор изображений"
   ]
  },
  {
   "cell_type": "markdown",
   "metadata": {
    "colab_type": "text",
    "id": "PT8hvopFpUBG"
   },
   "source": [
    "Еще один способ подать данные в сеть - это с помощью генератора изображений. Процесс предподготовки данных (например,оптимальное разбитие на выборки, нормализация или изменения размера изображения) имеет большое значение для нейронных сетей. Некоторые из этих процессов можно прописывать отдельно, а можно применить генератор изображений. \n",
    "\n",
    "В данном случае мы сделаем несколько вещей при помощи генератора:\n",
    "* Нормализуем данные\n",
    "* Изменим размерность картинок на подходящий в нейронную сеть\n",
    "* Пропишем размер мини-выборки\n",
    "\n",
    "Мы уже сталкивались с данными, в которых представителей одного класса больше, чем других. В таком случае часто применяется искуственная генерация изображений. Например, путем поворота или отражения картинки, увеличения или уменьшения, размытия четкоси. Все это позволяет делать генератор изображений, однако в данной работы мы не будем останавливаться на этом. Используем генератор для описанных выше целей.\n"
   ]
  },
  {
   "cell_type": "markdown",
   "metadata": {
    "colab_type": "text",
    "id": "VJ-vB0oNsT7R"
   },
   "source": [
    "Итак, генератор изображений создается на основе класса ImageDataGenerator. Генератор делит значения всех пикселов изображения на 255."
   ]
  },
  {
   "cell_type": "code",
   "execution_count": 0,
   "metadata": {
    "colab": {},
    "colab_type": "code",
    "id": "CZci8neOrojf"
   },
   "outputs": [],
   "source": [
    "datagen = ImageDataGenerator(rescale=1. / 255)"
   ]
  },
  {
   "cell_type": "markdown",
   "metadata": {
    "colab_type": "text",
    "id": "n3QkgZRysX8n"
   },
   "source": [
    "\n",
    "Генератор данных для обучения, проверки и тестирования на основе изображений из каталога"
   ]
  },
  {
   "cell_type": "code",
   "execution_count": 0,
   "metadata": {
    "colab": {},
    "colab_type": "code",
    "id": "0B3_JBn3sIBx"
   },
   "outputs": [],
   "source": [
    "train_generator = datagen.flow_from_directory(\n",
    "    train_dir,\n",
    "    target_size=(img_width, img_height),\n",
    "    batch_size=batch_size,\n",
    "    class_mode='binary')"
   ]
  },
  {
   "cell_type": "code",
   "execution_count": 0,
   "metadata": {
    "colab": {},
    "colab_type": "code",
    "id": "3RJ-H3c7sJVu"
   },
   "outputs": [],
   "source": [
    "val_generator = datagen.flow_from_directory(\n",
    "    val_dir,\n",
    "    target_size=(img_width, img_height),\n",
    "    batch_size=batch_size,\n",
    "    class_mode='binary')"
   ]
  },
  {
   "cell_type": "code",
   "execution_count": 0,
   "metadata": {
    "colab": {},
    "colab_type": "code",
    "id": "gVRDyRIqsLTh"
   },
   "outputs": [],
   "source": [
    "test_generator = datagen.flow_from_directory(\n",
    "    test_dir,\n",
    "    target_size=(img_width, img_height),\n",
    "    batch_size=batch_size,\n",
    "    class_mode='binary')"
   ]
  },
  {
   "cell_type": "markdown",
   "metadata": {
    "colab_type": "text",
    "id": "XbSvJo2LsgDh"
   },
   "source": [
    "### Обучаем модель с использованием генераторов\n"
   ]
  },
  {
   "cell_type": "code",
   "execution_count": 0,
   "metadata": {
    "colab": {},
    "colab_type": "code",
    "id": "lAIVYY9esNE3"
   },
   "outputs": [],
   "source": [
    "model.fit_generator(\n",
    "    train_generator,\n",
    "    steps_per_epoch=nb_train_samples // batch_size,\n",
    "    epochs=10,\n",
    "    validation_data=val_generator,\n",
    "    validation_steps=nb_validation_samples // batch_size)"
   ]
  },
  {
   "cell_type": "markdown",
   "metadata": {
    "colab_type": "text",
    "id": "doc9og1dtSRp"
   },
   "source": [
    "### Оценим качество сети"
   ]
  },
  {
   "cell_type": "code",
   "execution_count": 0,
   "metadata": {
    "colab": {},
    "colab_type": "code",
    "id": "UXvmyb4Csjwa"
   },
   "outputs": [],
   "source": [
    "scores = model.evaluate_generator(test_generator, nb_test_samples // batch_size)\n",
    "print(\"Аккуратность на тестовых данных: %.2f%%\" % (scores[1]*100))"
   ]
  },
  {
   "cell_type": "markdown",
   "metadata": {
    "colab_type": "text",
    "id": "P4ddL6UctpPX"
   },
   "source": [
    "### Применение метода Fine Tuning"
   ]
  },
  {
   "cell_type": "markdown",
   "metadata": {
    "colab_type": "text",
    "id": "6fDPVYrztwFd"
   },
   "source": [
    "\"Размораживаем\" последний сверточный блок сети VGG16"
   ]
  },
  {
   "cell_type": "code",
   "execution_count": 0,
   "metadata": {
    "colab": {},
    "colab_type": "code",
    "id": "Iwp6Z_nZtzP5"
   },
   "outputs": [],
   "source": [
    "vgg16_net.trainable = True\n",
    "trainable = False\n",
    "for layer in vgg16_net.layers:\n",
    "    if layer.name == 'block5_conv1':\n",
    "        trainable = True\n",
    "    layer.trainable = trainable"
   ]
  },
  {
   "cell_type": "markdown",
   "metadata": {
    "colab_type": "text",
    "id": "9ix4pEQ2t8KE"
   },
   "source": [
    "Посмотрим на количество обучаемых параметров, оно должно было измениться."
   ]
  },
  {
   "cell_type": "code",
   "execution_count": 0,
   "metadata": {
    "colab": {},
    "colab_type": "code",
    "id": "N3Za9hQ9xAyn"
   },
   "outputs": [],
   "source": [
    "model.summary()"
   ]
  },
  {
   "cell_type": "code",
   "execution_count": 0,
   "metadata": {
    "colab": {},
    "colab_type": "code",
    "id": "t7NpYe7euD2T"
   },
   "outputs": [],
   "source": [
    "model.compile(loss='binary_crossentropy',\n",
    "              optimizer=Adam(lr=1e-5), \n",
    "              metrics=['accuracy'])"
   ]
  },
  {
   "cell_type": "markdown",
   "metadata": {
    "colab_type": "text",
    "id": "oKg3y9gc34YX"
   },
   "source": [
    "Возьмем небольшое количество эпох, чтобы избежать переобучения."
   ]
  },
  {
   "cell_type": "code",
   "execution_count": 0,
   "metadata": {
    "colab": {},
    "colab_type": "code",
    "id": "79yXfK-3uHeg"
   },
   "outputs": [],
   "source": [
    "model.fit_generator(\n",
    "    train_generator,\n",
    "    steps_per_epoch=nb_train_samples // batch_size,\n",
    "    epochs=2,\n",
    "    validation_data=val_generator,\n",
    "    validation_steps=nb_validation_samples // batch_size)"
   ]
  },
  {
   "cell_type": "code",
   "execution_count": 0,
   "metadata": {
    "colab": {},
    "colab_type": "code",
    "id": "XRbXQ4F0uKf1"
   },
   "outputs": [],
   "source": [
    "scores = model.evaluate_generator(test_generator, nb_test_samples // batch_size)\n",
    "print(\"Аккуратность на тестовых данных: %.2f%%\" % (scores[1]*100))"
   ]
  },
  {
   "cell_type": "markdown",
   "metadata": {
    "colab_type": "text",
    "id": "8fRk2VpJzgYJ"
   },
   "source": [
    "# Задание"
   ]
  },
  {
   "cell_type": "markdown",
   "metadata": {
    "colab_type": "text",
    "id": "7cRk_Fw1zj2q"
   },
   "source": [
    "1.  Запустите код, приведенный для примера, выше (обучите сети, проанализируйте результаты)\n",
    "2. Создайте собвтенную нейронную сеть на базе предобученной сети VGG16 (можно взять другую предобученную сеть по желанию, например, AlexNet, Interception и  т.д). \n",
    "\n",
    "То есть в примере выше нужно поменять добавляемые слои после Flattern на ваш вариант. Например, вы можете использовать:\n",
    "* Один дополнительный полносвязный слой Dense после Dropout\n",
    "* Dropout с разным процентом исключения нейронов\n",
    "* Также вы можете поменять количество эпох или размер мини-выборки\n",
    "\n",
    "3. Сравните полученные результаты и сделайте выводы.\n",
    "\n",
    "! не забудьте заново загрузить VGG16 или снова заморозить все слои в уже загруженной модели"
   ]
  }
 ],
 "metadata": {
  "colab": {
   "collapsed_sections": [],
   "name": "Lab6_Transfer_Learning.ipynb",
   "provenance": [],
   "toc_visible": true
  },
  "kernelspec": {
   "display_name": "Python 3",
   "language": "python",
   "name": "python3"
  },
  "language_info": {
   "codemirror_mode": {
    "name": "ipython",
    "version": 3
   },
   "file_extension": ".py",
   "mimetype": "text/x-python",
   "name": "python",
   "nbconvert_exporter": "python",
   "pygments_lexer": "ipython3",
   "version": "3.6.4"
  }
 },
 "nbformat": 4,
 "nbformat_minor": 1
}
