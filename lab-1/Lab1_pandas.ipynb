{
  "nbformat": 4,
  "nbformat_minor": 0,
  "metadata": {
    "colab": {
      "name": "Copy of Lab1_pandas (1).ipynb",
      "version": "0.3.2",
      "provenance": [],
      "collapsed_sections": [],
      "include_colab_link": true
    },
    "kernelspec": {
      "name": "python3",
      "display_name": "Python 3"
    }
  },
  "cells": [
    {
      "cell_type": "markdown",
      "metadata": {
        "id": "view-in-github",
        "colab_type": "text"
      },
      "source": [
        "<a href=\"https://colab.research.google.com/github/AppLoidx/ITMO-Machine-Learning/blob/master/jupiter/Copy_of_Lab1_pandas_(1).ipynb\" target=\"_parent\"><img src=\"https://colab.research.google.com/assets/colab-badge.svg\" alt=\"Open In Colab\"/></a>"
      ]
    },
    {
      "cell_type": "markdown",
      "metadata": {
        "id": "gtyGsN41cJfW",
        "colab_type": "text"
      },
      "source": [
        "# Введение"
      ]
    },
    {
      "cell_type": "markdown",
      "metadata": {
        "id": "xwcgtnoLEzw3",
        "colab_type": "text"
      },
      "source": [
        "Для выполнения лабораторных работ используется Jupyter Notebook. В Jupyter notebook вы можете разрабатывать, документировать и выполнять приложения на языке Python, он состоит из двух компонентов: веб-приложение, запускаемое в браузере, и ноутбуки – файлы, в которых можно работать с исходным кодом программы, запускать его, вводить и выводить данные и т.п.\n",
        "\n",
        "Веб приложение позволяет:\n",
        "\n",
        "*    редактировать Python код в браузере, с подсветкой синтаксиса, автоотступами и автодополнением;\n",
        "*    запускать код в браузере;\n",
        "*    отображать результаты вычислений с медиа представлением (схемы, графики);\n",
        "*    работать с языком разметки Markdown и LaTeX.\n",
        "\n",
        "Ноутбуки – это файлы, в которых сохраняются исходный код, входные и выходные данные\n",
        "\n",
        "Ноутбук состоит из ячеек (строк). Каждая ячейка может содежать код или текст. Добавляя ячеку вы выбираете какого типа ячейка вам нужна: +Code или +Text. Под кодом мы подразумеваем код, написанный на языке Python или системные команды (для системных команд перед ними ставится !)\n",
        "В текстовых строках можно ввести любой текст с определенным форматированием, html и математические формулы.\n",
        "\n"
      ]
    },
    {
      "cell_type": "markdown",
      "metadata": {
        "id": "DO4doOdyab53",
        "colab_type": "text"
      },
      "source": [
        "Для начала решим простую арифметическую задачу: добавьте строчку “Code”, введите в ячейке “2 + 3” без кавычек и нажмите Ctrl+Enter или Shift+Enter, в первом случае введенный вами код будет выполнен интерпретатором Python, во втором – будет выполнен код и создана новая ячейка, которая расположится уровнем ниже.\n",
        "\n",
        "Если ваша программа зависла, то можно прервать ее выполнение выбрав на панели меню пункт Kernel -> Interrupt."
      ]
    },
    {
      "cell_type": "code",
      "metadata": {
        "id": "tcGRZwWtEg9a",
        "colab_type": "code",
        "colab": {}
      },
      "source": [
        ""
      ],
      "execution_count": 0,
      "outputs": []
    },
    {
      "cell_type": "markdown",
      "metadata": {
        "id": "DqJugbmJYSFB",
        "colab_type": "text"
      },
      "source": [
        "Следующим шагом переназовем ноутбук.\n",
        "У каждого ноутбука есть имя, оно отображается в верхней части экрана. Для изменения имени нажмите на его текущее имя и поменяйте название ноутбука на Lab1_Фамилия_Группа.ipynb"
      ]
    },
    {
      "cell_type": "markdown",
      "metadata": {
        "id": "MYsEMLI9u7B5",
        "colab_type": "text"
      },
      "source": [
        "Дополнительную справочную информацию по работе в ноубуках можно посмотреть в интернете."
      ]
    },
    {
      "cell_type": "code",
      "metadata": {
        "id": "Zy2Uvd6OuWCc",
        "colab_type": "code",
        "colab": {}
      },
      "source": [
        ""
      ],
      "execution_count": 0,
      "outputs": []
    },
    {
      "cell_type": "markdown",
      "metadata": {
        "id": "p7isANkjcCZ6",
        "colab_type": "text"
      },
      "source": [
        "#Основы Pandas"
      ]
    },
    {
      "cell_type": "markdown",
      "metadata": {
        "id": "sjJVY4CYcxNW",
        "colab_type": "text"
      },
      "source": [
        "Pandas - это библиотека Python, предоставляющая широкие возможности для анализа данных. С ее помощью очень удобно загружать, обрабатывать и анализировать табличные данные с помощью SQL-подобных запросов. В связке с библиотеками Matplotlib и Seaborn появляется возможность удобного визуального анализа табличных данных.\n"
      ]
    },
    {
      "cell_type": "markdown",
      "metadata": {
        "id": "G5ABRBGldX6c",
        "colab_type": "text"
      },
      "source": [
        "Для использования библиотек их необходимо импортировать, что можно сделать с помощью команды import. После ключевого слова import указывается название библиотеки, а после as - ее краткое название (алиас), которое мы будем использовать в коде для краткого обозначения этой библиотеки."
      ]
    },
    {
      "cell_type": "code",
      "metadata": {
        "id": "yslJCsMpcHZW",
        "colab_type": "code",
        "colab": {}
      },
      "source": [
        "import pandas as pd"
      ],
      "execution_count": 0,
      "outputs": []
    },
    {
      "cell_type": "markdown",
      "metadata": {
        "id": "zIg8XEVteZe_",
        "colab_type": "text"
      },
      "source": [
        "Основными структурами данных в Pandas являются классы Series и DataFrame. Первый из них представляет собой одномерный индексированный массив данных некоторого фиксированного типа (его можно интеерпретировать как индексированный столбец таблицы). Второй - это двухмерная структура данных, представляющая собой таблицу, каждый столбец которой содержит данные одного типа. Можно представлять её как словарь объектов типа Series. Структура DataFrame отлично подходит для представления реальных данных: строки соответствуют признаковым описаниям отдельных объектов, а столбцы соответствуют признакам."
      ]
    },
    {
      "cell_type": "markdown",
      "metadata": {
        "id": "m7BEyqMjs8L-",
        "colab_type": "text"
      },
      "source": [
        "## Чтение из файла и первичный анализ\n",
        "Чаще всего, данные, которые мы будем анализировать, готовить  и использовать для обучения моделей, не формируются самостоятельно, а берутся из готового дататсета. Рассмотрим чтение датасета (DataFrame) из файла с расширением csv. В качестве примера возьмем titanic_train.csv, который содержить данные о пассажирах Титаника. Полный датасет titanic был разделен на 2 части - тренировочную и тестовую. Именно с тренировочной частью мы и будем работать. Датасет titanic предоставлен в рабочей папке Лаб_1, а также вы можете его скачать (titanic_train.csv) по ссылке https://www.kaggle.com/tedllh/titanic-train#titanic_train.csv. Если вы работаете на платформе Goggle Colab, необходимо сделать upload файла в вашу рабочую директорию ( в меню ноутбука слева  найти и перейти на Files, нажать Upload и выбрать файл для загрузки)\n",
        "\n",
        "Внимание! Проверьте, что файл находиться в папке content, если его там нет, то нажмите на нее правой кнопкой и upload. \n"
      ]
    },
    {
      "cell_type": "markdown",
      "metadata": {
        "id": "-W69sFlrtNtF",
        "colab_type": "text"
      },
      "source": [
        "###Чтение данных"
      ]
    },
    {
      "cell_type": "markdown",
      "metadata": {
        "id": "2uCoeFJoqWpa",
        "colab_type": "text"
      },
      "source": [
        "Для чтения csv файла используем функцию pd.read_csv"
      ]
    },
    {
      "cell_type": "code",
      "metadata": {
        "id": "xqXF6_9LqpRn",
        "colab_type": "code",
        "colab": {}
      },
      "source": [
        "import pandas as pd\n",
        "df = pd.read_csv('titanic_train.csv')"
      ],
      "execution_count": 0,
      "outputs": []
    },
    {
      "cell_type": "markdown",
      "metadata": {
        "id": "6rtdfLfItnIc",
        "colab_type": "text"
      },
      "source": [
        "Посмотрим тип переменной df"
      ]
    },
    {
      "cell_type": "code",
      "metadata": {
        "id": "KspQ_kC8tl3D",
        "colab_type": "code",
        "colab": {
          "base_uri": "https://localhost:8080/",
          "height": 34
        },
        "outputId": "c9f72241-5fc7-4a0e-945e-6e6f18dee629"
      },
      "source": [
        "type(df)"
      ],
      "execution_count": 4,
      "outputs": [
        {
          "output_type": "execute_result",
          "data": {
            "text/plain": [
              "pandas.core.frame.DataFrame"
            ]
          },
          "metadata": {
            "tags": []
          },
          "execution_count": 4
        }
      ]
    },
    {
      "cell_type": "markdown",
      "metadata": {
        "id": "-ryV8-iUMc1O",
        "colab_type": "text"
      },
      "source": [
        "### Первичный анализ"
      ]
    },
    {
      "cell_type": "markdown",
      "metadata": {
        "id": "11Jgrd0KtwgV",
        "colab_type": "text"
      },
      "source": [
        "После того, как мы считали данные, посмотрим первые несколько записей датафрейма (если в скобках после функции head не указать нужное количество записей, то по умолчанию будут выведены первые 5 записей датафрейма). Если вместо таблицы вы видите  \"кашу\" из данных, разделенных \";\", значит, ваш csv файл использует в качестве разделителя \";\", а не \",\". И для корректного чтения данных, нужно задать разделитель в функции чтения, например df = pd.read_csv('proba.csv', sep=\";\")"
      ]
    },
    {
      "cell_type": "code",
      "metadata": {
        "id": "QmXrbhoTuJRG",
        "colab_type": "code",
        "colab": {
          "base_uri": "https://localhost:8080/",
          "height": 359
        },
        "outputId": "378d94d2-454e-4d53-da74-36a1ff7cf00f"
      },
      "source": [
        "df.head(10)"
      ],
      "execution_count": 5,
      "outputs": [
        {
          "output_type": "execute_result",
          "data": {
            "text/html": [
              "<div>\n",
              "<style scoped>\n",
              "    .dataframe tbody tr th:only-of-type {\n",
              "        vertical-align: middle;\n",
              "    }\n",
              "\n",
              "    .dataframe tbody tr th {\n",
              "        vertical-align: top;\n",
              "    }\n",
              "\n",
              "    .dataframe thead th {\n",
              "        text-align: right;\n",
              "    }\n",
              "</style>\n",
              "<table border=\"1\" class=\"dataframe\">\n",
              "  <thead>\n",
              "    <tr style=\"text-align: right;\">\n",
              "      <th></th>\n",
              "      <th>PassengerId</th>\n",
              "      <th>Survived</th>\n",
              "      <th>Pclass</th>\n",
              "      <th>Name</th>\n",
              "      <th>Sex</th>\n",
              "      <th>Age</th>\n",
              "      <th>SibSp</th>\n",
              "      <th>Parch</th>\n",
              "      <th>Ticket</th>\n",
              "      <th>Fare</th>\n",
              "      <th>Cabin</th>\n",
              "      <th>Embarked</th>\n",
              "    </tr>\n",
              "  </thead>\n",
              "  <tbody>\n",
              "    <tr>\n",
              "      <th>0</th>\n",
              "      <td>1</td>\n",
              "      <td>0</td>\n",
              "      <td>3</td>\n",
              "      <td>Braund, Mr. Owen Harris</td>\n",
              "      <td>male</td>\n",
              "      <td>22.0</td>\n",
              "      <td>1</td>\n",
              "      <td>0</td>\n",
              "      <td>A/5 21171</td>\n",
              "      <td>7.2500</td>\n",
              "      <td>NaN</td>\n",
              "      <td>S</td>\n",
              "    </tr>\n",
              "    <tr>\n",
              "      <th>1</th>\n",
              "      <td>2</td>\n",
              "      <td>1</td>\n",
              "      <td>1</td>\n",
              "      <td>Cumings, Mrs. John Bradley (Florence Briggs Th...</td>\n",
              "      <td>female</td>\n",
              "      <td>38.0</td>\n",
              "      <td>1</td>\n",
              "      <td>0</td>\n",
              "      <td>PC 17599</td>\n",
              "      <td>71.2833</td>\n",
              "      <td>C85</td>\n",
              "      <td>C</td>\n",
              "    </tr>\n",
              "    <tr>\n",
              "      <th>2</th>\n",
              "      <td>3</td>\n",
              "      <td>1</td>\n",
              "      <td>3</td>\n",
              "      <td>Heikkinen, Miss. Laina</td>\n",
              "      <td>female</td>\n",
              "      <td>26.0</td>\n",
              "      <td>0</td>\n",
              "      <td>0</td>\n",
              "      <td>STON/O2. 3101282</td>\n",
              "      <td>7.9250</td>\n",
              "      <td>NaN</td>\n",
              "      <td>S</td>\n",
              "    </tr>\n",
              "    <tr>\n",
              "      <th>3</th>\n",
              "      <td>4</td>\n",
              "      <td>1</td>\n",
              "      <td>1</td>\n",
              "      <td>Futrelle, Mrs. Jacques Heath (Lily May Peel)</td>\n",
              "      <td>female</td>\n",
              "      <td>35.0</td>\n",
              "      <td>1</td>\n",
              "      <td>0</td>\n",
              "      <td>113803</td>\n",
              "      <td>53.1000</td>\n",
              "      <td>C123</td>\n",
              "      <td>S</td>\n",
              "    </tr>\n",
              "    <tr>\n",
              "      <th>4</th>\n",
              "      <td>5</td>\n",
              "      <td>0</td>\n",
              "      <td>3</td>\n",
              "      <td>Allen, Mr. William Henry</td>\n",
              "      <td>male</td>\n",
              "      <td>35.0</td>\n",
              "      <td>0</td>\n",
              "      <td>0</td>\n",
              "      <td>373450</td>\n",
              "      <td>8.0500</td>\n",
              "      <td>NaN</td>\n",
              "      <td>S</td>\n",
              "    </tr>\n",
              "    <tr>\n",
              "      <th>5</th>\n",
              "      <td>6</td>\n",
              "      <td>0</td>\n",
              "      <td>3</td>\n",
              "      <td>Moran, Mr. James</td>\n",
              "      <td>male</td>\n",
              "      <td>NaN</td>\n",
              "      <td>0</td>\n",
              "      <td>0</td>\n",
              "      <td>330877</td>\n",
              "      <td>8.4583</td>\n",
              "      <td>NaN</td>\n",
              "      <td>Q</td>\n",
              "    </tr>\n",
              "    <tr>\n",
              "      <th>6</th>\n",
              "      <td>7</td>\n",
              "      <td>0</td>\n",
              "      <td>1</td>\n",
              "      <td>McCarthy, Mr. Timothy J</td>\n",
              "      <td>male</td>\n",
              "      <td>54.0</td>\n",
              "      <td>0</td>\n",
              "      <td>0</td>\n",
              "      <td>17463</td>\n",
              "      <td>51.8625</td>\n",
              "      <td>E46</td>\n",
              "      <td>S</td>\n",
              "    </tr>\n",
              "    <tr>\n",
              "      <th>7</th>\n",
              "      <td>8</td>\n",
              "      <td>0</td>\n",
              "      <td>3</td>\n",
              "      <td>Palsson, Master. Gosta Leonard</td>\n",
              "      <td>male</td>\n",
              "      <td>2.0</td>\n",
              "      <td>3</td>\n",
              "      <td>1</td>\n",
              "      <td>349909</td>\n",
              "      <td>21.0750</td>\n",
              "      <td>NaN</td>\n",
              "      <td>S</td>\n",
              "    </tr>\n",
              "    <tr>\n",
              "      <th>8</th>\n",
              "      <td>9</td>\n",
              "      <td>1</td>\n",
              "      <td>3</td>\n",
              "      <td>Johnson, Mrs. Oscar W (Elisabeth Vilhelmina Berg)</td>\n",
              "      <td>female</td>\n",
              "      <td>27.0</td>\n",
              "      <td>0</td>\n",
              "      <td>2</td>\n",
              "      <td>347742</td>\n",
              "      <td>11.1333</td>\n",
              "      <td>NaN</td>\n",
              "      <td>S</td>\n",
              "    </tr>\n",
              "    <tr>\n",
              "      <th>9</th>\n",
              "      <td>10</td>\n",
              "      <td>1</td>\n",
              "      <td>2</td>\n",
              "      <td>Nasser, Mrs. Nicholas (Adele Achem)</td>\n",
              "      <td>female</td>\n",
              "      <td>14.0</td>\n",
              "      <td>1</td>\n",
              "      <td>0</td>\n",
              "      <td>237736</td>\n",
              "      <td>30.0708</td>\n",
              "      <td>NaN</td>\n",
              "      <td>C</td>\n",
              "    </tr>\n",
              "  </tbody>\n",
              "</table>\n",
              "</div>"
            ],
            "text/plain": [
              "   PassengerId  Survived  Pclass  ...     Fare Cabin  Embarked\n",
              "0            1         0       3  ...   7.2500   NaN         S\n",
              "1            2         1       1  ...  71.2833   C85         C\n",
              "2            3         1       3  ...   7.9250   NaN         S\n",
              "3            4         1       1  ...  53.1000  C123         S\n",
              "4            5         0       3  ...   8.0500   NaN         S\n",
              "5            6         0       3  ...   8.4583   NaN         Q\n",
              "6            7         0       1  ...  51.8625   E46         S\n",
              "7            8         0       3  ...  21.0750   NaN         S\n",
              "8            9         1       3  ...  11.1333   NaN         S\n",
              "9           10         1       2  ...  30.0708   NaN         C\n",
              "\n",
              "[10 rows x 12 columns]"
            ]
          },
          "metadata": {
            "tags": []
          },
          "execution_count": 5
        }
      ]
    },
    {
      "cell_type": "markdown",
      "metadata": {
        "id": "kUufGVpKvk1A",
        "colab_type": "text"
      },
      "source": [
        "Давайте посмотрим, что это за данные. Достаточно часто датасеты имеют краткое описание содержимого. Например, что означает тот или иной столбец, какие значения используются для заполнения и т.д. Или значения признаков интуитивно понятны. В нашем случае, мы имеем следующие данные:\n",
        "каждая строка - это сведения об отдельном пассажире. Строка содержит:\n",
        "*   PassengerId - идентификатор пассажира (проще говоря, порядковый номер строки)\n",
        "*   Survived - признак, выжил ли пассажир после крушения (0 - погиб, 1 - выжил)\n",
        "*   Pclass - в каком классе ехал пассажир (1, 2 или 3)\n",
        "*   Name - имя пассажира\n",
        "*   Sex - пол (male - мужской, female - женский)\n",
        "*   Age - возраст\n",
        "*   SibSp - количество родственников (по горизонтали - супруг, братья, сестры) на борту\n",
        "*   Parch - количество родственников (по вертикали - родители, дети) на борту \n",
        "*   Ticket - номер билета\n",
        "*   Fare - цена билета\n",
        "*   Cabin - номер каюты\n",
        "*   Embarked - порт посадки (C — Cherbourg, Q — Queenstown, S — Southampton)\n",
        "\n",
        "\n",
        "\n"
      ]
    },
    {
      "cell_type": "markdown",
      "metadata": {
        "id": "MBgJoJYD4HCf",
        "colab_type": "text"
      },
      "source": [
        "Команда shape() показывате размерность датафрейма"
      ]
    },
    {
      "cell_type": "markdown",
      "metadata": {
        "id": "Lpg2DdiN4NL9",
        "colab_type": "text"
      },
      "source": [
        "Мы видим, что в нашем датафрейме 891 строка (то есть, сведения о 891 пассажире) и 12 столбцов признаков"
      ]
    },
    {
      "cell_type": "code",
      "metadata": {
        "id": "REsrbW9YqmXg",
        "colab_type": "code",
        "colab": {
          "base_uri": "https://localhost:8080/",
          "height": 34
        },
        "outputId": "c64475e3-b64e-4d38-e130-5fbc7f79456e"
      },
      "source": [
        "df.shape"
      ],
      "execution_count": 6,
      "outputs": [
        {
          "output_type": "execute_result",
          "data": {
            "text/plain": [
              "(891, 12)"
            ]
          },
          "metadata": {
            "tags": []
          },
          "execution_count": 6
        }
      ]
    },
    {
      "cell_type": "markdown",
      "metadata": {
        "id": "16kl-_TqebjJ",
        "colab_type": "text"
      },
      "source": [
        "Команда columns.values() показывате название всех признаков"
      ]
    },
    {
      "cell_type": "code",
      "metadata": {
        "id": "8th1M4uueUsZ",
        "colab_type": "code",
        "colab": {
          "base_uri": "https://localhost:8080/",
          "height": 51
        },
        "outputId": "1e824481-e005-4246-ba46-58d5858bf858"
      },
      "source": [
        "df.columns.values"
      ],
      "execution_count": 7,
      "outputs": [
        {
          "output_type": "execute_result",
          "data": {
            "text/plain": [
              "array(['PassengerId', 'Survived', 'Pclass', 'Name', 'Sex', 'Age', 'SibSp',\n",
              "       'Parch', 'Ticket', 'Fare', 'Cabin', 'Embarked'], dtype=object)"
            ]
          },
          "metadata": {
            "tags": []
          },
          "execution_count": 7
        }
      ]
    },
    {
      "cell_type": "markdown",
      "metadata": {
        "id": "ZOnYvyDfEuRr",
        "colab_type": "text"
      },
      "source": [
        "Также полезно посмотреть метод info, который показывает краткую статистику по набору данных"
      ]
    },
    {
      "cell_type": "code",
      "metadata": {
        "id": "7JonSzixE6Y7",
        "colab_type": "code",
        "colab": {
          "base_uri": "https://localhost:8080/",
          "height": 306
        },
        "outputId": "8db9b1c8-c4a2-4878-b7a4-b26c81f0de43"
      },
      "source": [
        "df.info()"
      ],
      "execution_count": 8,
      "outputs": [
        {
          "output_type": "stream",
          "text": [
            "<class 'pandas.core.frame.DataFrame'>\n",
            "RangeIndex: 891 entries, 0 to 890\n",
            "Data columns (total 12 columns):\n",
            "PassengerId    891 non-null int64\n",
            "Survived       891 non-null int64\n",
            "Pclass         891 non-null int64\n",
            "Name           891 non-null object\n",
            "Sex            891 non-null object\n",
            "Age            714 non-null float64\n",
            "SibSp          891 non-null int64\n",
            "Parch          891 non-null int64\n",
            "Ticket         891 non-null object\n",
            "Fare           891 non-null float64\n",
            "Cabin          204 non-null object\n",
            "Embarked       889 non-null object\n",
            "dtypes: float64(2), int64(5), object(5)\n",
            "memory usage: 83.6+ KB\n"
          ],
          "name": "stdout"
        }
      ]
    },
    {
      "cell_type": "markdown",
      "metadata": {
        "id": "4ujf8CzK4bdJ",
        "colab_type": "text"
      },
      "source": [
        "Можно увидеть, что не все признаки у нас заполнены в каждой строке,для некоторых признаков есть пропуски. Например, у нас 891 строка, а Age (возраст) заполнен только в 714 строках. Совсем мало значений в столбце Cabin. \n",
        "\n",
        "Есть несколько вариантов работы с такими строками: \n",
        "* их можно оставить без изменений, если признак, в котором пропущены данные, малозначим;\n",
        "* можно удалить все строки, в которых есть пустые значения;\n",
        "* можно заполнить их какими-либо значениями (0, медианой или любыми другими константами).\n",
        "\n",
        "Метод info так же показывает какого типа данные в том или ином столбце: цифровые (int или float), текстовые и т.д. В последней строке указан объем памяти, которую занимает датафрейм. При больших объемах данных это позволяет оценить хватит ли вам ресурсов для загрузки в память полного датасета"
      ]
    },
    {
      "cell_type": "markdown",
      "metadata": {
        "id": "A28wj4YRH0pc",
        "colab_type": "text"
      },
      "source": [
        "Еще один полезный метод для начального анализа данных - метод describe(), который выдает краткую статистику по числовым признакам: среднее, стандартное отклонение, минимум, максимум, медианы, квартили и т.д. Самостоятельно посмотрите, что означает каждое понятие. "
      ]
    },
    {
      "cell_type": "code",
      "metadata": {
        "id": "AeSTWWppE4-3",
        "colab_type": "code",
        "colab": {
          "base_uri": "https://localhost:8080/",
          "height": 297
        },
        "outputId": "a54e8d20-1ed2-4bd9-c022-a2b93b2b3de4"
      },
      "source": [
        "df.describe()"
      ],
      "execution_count": 9,
      "outputs": [
        {
          "output_type": "execute_result",
          "data": {
            "text/html": [
              "<div>\n",
              "<style scoped>\n",
              "    .dataframe tbody tr th:only-of-type {\n",
              "        vertical-align: middle;\n",
              "    }\n",
              "\n",
              "    .dataframe tbody tr th {\n",
              "        vertical-align: top;\n",
              "    }\n",
              "\n",
              "    .dataframe thead th {\n",
              "        text-align: right;\n",
              "    }\n",
              "</style>\n",
              "<table border=\"1\" class=\"dataframe\">\n",
              "  <thead>\n",
              "    <tr style=\"text-align: right;\">\n",
              "      <th></th>\n",
              "      <th>PassengerId</th>\n",
              "      <th>Survived</th>\n",
              "      <th>Pclass</th>\n",
              "      <th>Age</th>\n",
              "      <th>SibSp</th>\n",
              "      <th>Parch</th>\n",
              "      <th>Fare</th>\n",
              "    </tr>\n",
              "  </thead>\n",
              "  <tbody>\n",
              "    <tr>\n",
              "      <th>count</th>\n",
              "      <td>891.000000</td>\n",
              "      <td>891.000000</td>\n",
              "      <td>891.000000</td>\n",
              "      <td>714.000000</td>\n",
              "      <td>891.000000</td>\n",
              "      <td>891.000000</td>\n",
              "      <td>891.000000</td>\n",
              "    </tr>\n",
              "    <tr>\n",
              "      <th>mean</th>\n",
              "      <td>446.000000</td>\n",
              "      <td>0.383838</td>\n",
              "      <td>2.308642</td>\n",
              "      <td>29.699118</td>\n",
              "      <td>0.523008</td>\n",
              "      <td>0.381594</td>\n",
              "      <td>32.204208</td>\n",
              "    </tr>\n",
              "    <tr>\n",
              "      <th>std</th>\n",
              "      <td>257.353842</td>\n",
              "      <td>0.486592</td>\n",
              "      <td>0.836071</td>\n",
              "      <td>14.526497</td>\n",
              "      <td>1.102743</td>\n",
              "      <td>0.806057</td>\n",
              "      <td>49.693429</td>\n",
              "    </tr>\n",
              "    <tr>\n",
              "      <th>min</th>\n",
              "      <td>1.000000</td>\n",
              "      <td>0.000000</td>\n",
              "      <td>1.000000</td>\n",
              "      <td>0.420000</td>\n",
              "      <td>0.000000</td>\n",
              "      <td>0.000000</td>\n",
              "      <td>0.000000</td>\n",
              "    </tr>\n",
              "    <tr>\n",
              "      <th>25%</th>\n",
              "      <td>223.500000</td>\n",
              "      <td>0.000000</td>\n",
              "      <td>2.000000</td>\n",
              "      <td>20.125000</td>\n",
              "      <td>0.000000</td>\n",
              "      <td>0.000000</td>\n",
              "      <td>7.910400</td>\n",
              "    </tr>\n",
              "    <tr>\n",
              "      <th>50%</th>\n",
              "      <td>446.000000</td>\n",
              "      <td>0.000000</td>\n",
              "      <td>3.000000</td>\n",
              "      <td>28.000000</td>\n",
              "      <td>0.000000</td>\n",
              "      <td>0.000000</td>\n",
              "      <td>14.454200</td>\n",
              "    </tr>\n",
              "    <tr>\n",
              "      <th>75%</th>\n",
              "      <td>668.500000</td>\n",
              "      <td>1.000000</td>\n",
              "      <td>3.000000</td>\n",
              "      <td>38.000000</td>\n",
              "      <td>1.000000</td>\n",
              "      <td>0.000000</td>\n",
              "      <td>31.000000</td>\n",
              "    </tr>\n",
              "    <tr>\n",
              "      <th>max</th>\n",
              "      <td>891.000000</td>\n",
              "      <td>1.000000</td>\n",
              "      <td>3.000000</td>\n",
              "      <td>80.000000</td>\n",
              "      <td>8.000000</td>\n",
              "      <td>6.000000</td>\n",
              "      <td>512.329200</td>\n",
              "    </tr>\n",
              "  </tbody>\n",
              "</table>\n",
              "</div>"
            ],
            "text/plain": [
              "       PassengerId    Survived      Pclass  ...       SibSp       Parch        Fare\n",
              "count   891.000000  891.000000  891.000000  ...  891.000000  891.000000  891.000000\n",
              "mean    446.000000    0.383838    2.308642  ...    0.523008    0.381594   32.204208\n",
              "std     257.353842    0.486592    0.836071  ...    1.102743    0.806057   49.693429\n",
              "min       1.000000    0.000000    1.000000  ...    0.000000    0.000000    0.000000\n",
              "25%     223.500000    0.000000    2.000000  ...    0.000000    0.000000    7.910400\n",
              "50%     446.000000    0.000000    3.000000  ...    0.000000    0.000000   14.454200\n",
              "75%     668.500000    1.000000    3.000000  ...    1.000000    0.000000   31.000000\n",
              "max     891.000000    1.000000    3.000000  ...    8.000000    6.000000  512.329200\n",
              "\n",
              "[8 rows x 7 columns]"
            ]
          },
          "metadata": {
            "tags": []
          },
          "execution_count": 9
        }
      ]
    },
    {
      "cell_type": "markdown",
      "metadata": {
        "id": "iTPCktTEMkTX",
        "colab_type": "text"
      },
      "source": [
        "##Доступ к элементам данных"
      ]
    },
    {
      "cell_type": "markdown",
      "metadata": {
        "id": "X4cp32dRx1Hz",
        "colab_type": "text"
      },
      "source": [
        "###Доступ к элементам DataFrame"
      ]
    },
    {
      "cell_type": "markdown",
      "metadata": {
        "id": "b8gbfFvZ4bgu",
        "colab_type": "text"
      },
      "source": [
        "Разберемся как посмотреть какие-то конкретные значения в датафрейме. Наш датафрейм представляет собой таблицу, состоящую из строк и столбцов. Обратиться к конкретному столбцу можно используя его имя. Например, выведем первые 10 строк из столбца с возрастом пассажиров"
      ]
    },
    {
      "cell_type": "code",
      "metadata": {
        "id": "e7sx4pwMJtit",
        "colab_type": "code",
        "colab": {
          "base_uri": "https://localhost:8080/",
          "height": 204
        },
        "outputId": "68de6dc9-7e4f-4fa7-d20d-d8c32ec71428"
      },
      "source": [
        "df['Age'].head(10)"
      ],
      "execution_count": 10,
      "outputs": [
        {
          "output_type": "execute_result",
          "data": {
            "text/plain": [
              "0    22.0\n",
              "1    38.0\n",
              "2    26.0\n",
              "3    35.0\n",
              "4    35.0\n",
              "5     NaN\n",
              "6    54.0\n",
              "7     2.0\n",
              "8    27.0\n",
              "9    14.0\n",
              "Name: Age, dtype: float64"
            ]
          },
          "metadata": {
            "tags": []
          },
          "execution_count": 10
        }
      ]
    },
    {
      "cell_type": "markdown",
      "metadata": {
        "id": "U2RLfi_1ewLN",
        "colab_type": "text"
      },
      "source": [
        "Второй способ обращения - через \".\""
      ]
    },
    {
      "cell_type": "code",
      "metadata": {
        "id": "Jrd-z4lxevXA",
        "colab_type": "code",
        "colab": {
          "base_uri": "https://localhost:8080/",
          "height": 204
        },
        "outputId": "b0ee1fc6-924b-4364-a66e-3e9af860b983"
      },
      "source": [
        "df.Age.head(10)"
      ],
      "execution_count": 11,
      "outputs": [
        {
          "output_type": "execute_result",
          "data": {
            "text/plain": [
              "0    22.0\n",
              "1    38.0\n",
              "2    26.0\n",
              "3    35.0\n",
              "4    35.0\n",
              "5     NaN\n",
              "6    54.0\n",
              "7     2.0\n",
              "8    27.0\n",
              "9    14.0\n",
              "Name: Age, dtype: float64"
            ]
          },
          "metadata": {
            "tags": []
          },
          "execution_count": 11
        }
      ]
    },
    {
      "cell_type": "markdown",
      "metadata": {
        "id": "SXpeD9dsJ2w6",
        "colab_type": "text"
      },
      "source": [
        "Столбец таблицы - это объек Pandas Series, убедимся в этом определив тип полученного объекта. Этот объект проиндексирован (слева печатаются индексы). В нижней строке есть информацию о его имени и типе значений.\n",
        "Кроме того, здесь хорошо видны пропуски (незаполненные значения) в некоторых строках (они обозначены NaN - Not-A-Number)"
      ]
    },
    {
      "cell_type": "code",
      "metadata": {
        "id": "IPvr1mjfKnwF",
        "colab_type": "code",
        "colab": {
          "base_uri": "https://localhost:8080/",
          "height": 34
        },
        "outputId": "fb425c62-f570-427f-b0de-1699e29c0bcd"
      },
      "source": [
        "type(df['Age'])"
      ],
      "execution_count": 12,
      "outputs": [
        {
          "output_type": "execute_result",
          "data": {
            "text/plain": [
              "pandas.core.series.Series"
            ]
          },
          "metadata": {
            "tags": []
          },
          "execution_count": 12
        }
      ]
    },
    {
      "cell_type": "markdown",
      "metadata": {
        "id": "ycHZL4wLMNc8",
        "colab_type": "text"
      },
      "source": [
        "Кроме обращения к столбцу по имени, можно использовать индексацию с помощью методов loc и iloc"
      ]
    },
    {
      "cell_type": "markdown",
      "metadata": {
        "id": "Ne8BeNj5M1QQ",
        "colab_type": "text"
      },
      "source": [
        "Метод loc выдает нам подматрицу, используя индексы строк и столбцов. Первый аргумент отвечает за количество записей (как с начала, так и при желании с любого места), а второй - за отраженные в подматрице признаки.\n"
      ]
    },
    {
      "cell_type": "code",
      "metadata": {
        "id": "t6_jFUPbfblx",
        "colab_type": "code",
        "colab": {
          "base_uri": "https://localhost:8080/",
          "height": 297
        },
        "outputId": "dcedd5d4-de04-4102-b74e-cdcd264358c7"
      },
      "source": [
        "df.loc[1:8, ['Pclass', 'Fare']]"
      ],
      "execution_count": 19,
      "outputs": [
        {
          "output_type": "execute_result",
          "data": {
            "text/html": [
              "<div>\n",
              "<style scoped>\n",
              "    .dataframe tbody tr th:only-of-type {\n",
              "        vertical-align: middle;\n",
              "    }\n",
              "\n",
              "    .dataframe tbody tr th {\n",
              "        vertical-align: top;\n",
              "    }\n",
              "\n",
              "    .dataframe thead th {\n",
              "        text-align: right;\n",
              "    }\n",
              "</style>\n",
              "<table border=\"1\" class=\"dataframe\">\n",
              "  <thead>\n",
              "    <tr style=\"text-align: right;\">\n",
              "      <th></th>\n",
              "      <th>Pclass</th>\n",
              "      <th>Fare</th>\n",
              "    </tr>\n",
              "  </thead>\n",
              "  <tbody>\n",
              "    <tr>\n",
              "      <th>1</th>\n",
              "      <td>1</td>\n",
              "      <td>71.2833</td>\n",
              "    </tr>\n",
              "    <tr>\n",
              "      <th>2</th>\n",
              "      <td>3</td>\n",
              "      <td>7.9250</td>\n",
              "    </tr>\n",
              "    <tr>\n",
              "      <th>3</th>\n",
              "      <td>1</td>\n",
              "      <td>53.1000</td>\n",
              "    </tr>\n",
              "    <tr>\n",
              "      <th>4</th>\n",
              "      <td>3</td>\n",
              "      <td>8.0500</td>\n",
              "    </tr>\n",
              "    <tr>\n",
              "      <th>5</th>\n",
              "      <td>3</td>\n",
              "      <td>8.4583</td>\n",
              "    </tr>\n",
              "    <tr>\n",
              "      <th>6</th>\n",
              "      <td>1</td>\n",
              "      <td>51.8625</td>\n",
              "    </tr>\n",
              "    <tr>\n",
              "      <th>7</th>\n",
              "      <td>3</td>\n",
              "      <td>21.0750</td>\n",
              "    </tr>\n",
              "    <tr>\n",
              "      <th>8</th>\n",
              "      <td>3</td>\n",
              "      <td>11.1333</td>\n",
              "    </tr>\n",
              "  </tbody>\n",
              "</table>\n",
              "</div>"
            ],
            "text/plain": [
              "   Pclass     Fare\n",
              "1       1  71.2833\n",
              "2       3   7.9250\n",
              "3       1  53.1000\n",
              "4       3   8.0500\n",
              "5       3   8.4583\n",
              "6       1  51.8625\n",
              "7       3  21.0750\n",
              "8       3  11.1333"
            ]
          },
          "metadata": {
            "tags": []
          },
          "execution_count": 19
        }
      ]
    },
    {
      "cell_type": "markdown",
      "metadata": {
        "id": "abcixFoA4bug",
        "colab_type": "text"
      },
      "source": [
        "Метод iloc работает схожим образом, за исключением того, что второй аргумент теперь тоже индексы, то есть отражает количество признаков.\n"
      ]
    },
    {
      "cell_type": "code",
      "metadata": {
        "id": "Zg4NhgBKk0qV",
        "colab_type": "code",
        "colab": {
          "base_uri": "https://localhost:8080/",
          "height": 204
        },
        "outputId": "d9c7914d-c100-46c1-f1a6-3ba763474076"
      },
      "source": [
        "df.iloc[0:5, 1:3]"
      ],
      "execution_count": 20,
      "outputs": [
        {
          "output_type": "execute_result",
          "data": {
            "text/html": [
              "<div>\n",
              "<style scoped>\n",
              "    .dataframe tbody tr th:only-of-type {\n",
              "        vertical-align: middle;\n",
              "    }\n",
              "\n",
              "    .dataframe tbody tr th {\n",
              "        vertical-align: top;\n",
              "    }\n",
              "\n",
              "    .dataframe thead th {\n",
              "        text-align: right;\n",
              "    }\n",
              "</style>\n",
              "<table border=\"1\" class=\"dataframe\">\n",
              "  <thead>\n",
              "    <tr style=\"text-align: right;\">\n",
              "      <th></th>\n",
              "      <th>Survived</th>\n",
              "      <th>Pclass</th>\n",
              "    </tr>\n",
              "  </thead>\n",
              "  <tbody>\n",
              "    <tr>\n",
              "      <th>0</th>\n",
              "      <td>0</td>\n",
              "      <td>3</td>\n",
              "    </tr>\n",
              "    <tr>\n",
              "      <th>1</th>\n",
              "      <td>1</td>\n",
              "      <td>1</td>\n",
              "    </tr>\n",
              "    <tr>\n",
              "      <th>2</th>\n",
              "      <td>1</td>\n",
              "      <td>3</td>\n",
              "    </tr>\n",
              "    <tr>\n",
              "      <th>3</th>\n",
              "      <td>1</td>\n",
              "      <td>1</td>\n",
              "    </tr>\n",
              "    <tr>\n",
              "      <th>4</th>\n",
              "      <td>0</td>\n",
              "      <td>3</td>\n",
              "    </tr>\n",
              "  </tbody>\n",
              "</table>\n",
              "</div>"
            ],
            "text/plain": [
              "   Survived  Pclass\n",
              "0         0       3\n",
              "1         1       1\n",
              "2         1       3\n",
              "3         1       1\n",
              "4         0       3"
            ]
          },
          "metadata": {
            "tags": []
          },
          "execution_count": 20
        }
      ]
    },
    {
      "cell_type": "markdown",
      "metadata": {
        "id": "2W_MTx-WyK6w",
        "colab_type": "text"
      },
      "source": [
        "###Доступ к элементам Series"
      ]
    },
    {
      "cell_type": "markdown",
      "metadata": {
        "id": "XxsGabTz4b4T",
        "colab_type": "text"
      },
      "source": [
        "Для примера создадим два объекта Series"
      ]
    },
    {
      "cell_type": "code",
      "metadata": {
        "colab_type": "code",
        "id": "I6n9ftFxzWmI",
        "colab": {
          "base_uri": "https://localhost:8080/",
          "height": 119
        },
        "outputId": "57896af0-7cea-49ff-b199-187e2aa7b21d"
      },
      "source": [
        "s1 = pd.Series([\"one\", \"two\", \"three\", \"four\", \"five\"]) # передаем список, индексы проставляются автоматически с 0\n",
        "print(s1)"
      ],
      "execution_count": 21,
      "outputs": [
        {
          "output_type": "stream",
          "text": [
            "0      one\n",
            "1      two\n",
            "2    three\n",
            "3     four\n",
            "4     five\n",
            "dtype: object\n"
          ],
          "name": "stdout"
        }
      ]
    },
    {
      "cell_type": "code",
      "metadata": {
        "colab_type": "code",
        "id": "oN05wJZczWmc",
        "colab": {
          "base_uri": "https://localhost:8080/",
          "height": 119
        },
        "outputId": "81fb838e-bbcb-49a8-a75d-3f99602f9e79"
      },
      "source": [
        "s2 = pd.Series([1, 2, 3, 4, 5], ['a', 'b', 'c', 'd', 'e'])  # передаем список, индексы заданы символами от 'a' до 'e'\n",
        "print(s2)"
      ],
      "execution_count": 22,
      "outputs": [
        {
          "output_type": "stream",
          "text": [
            "a    1\n",
            "b    2\n",
            "c    3\n",
            "d    4\n",
            "e    5\n",
            "dtype: int64\n"
          ],
          "name": "stdout"
        }
      ]
    },
    {
      "cell_type": "markdown",
      "metadata": {
        "colab_type": "text",
        "id": "fu4bnCJ-zWmh"
      },
      "source": [
        "К элементам Series можно обращаться по численному индексу через \"[ ]\""
      ]
    },
    {
      "cell_type": "code",
      "metadata": {
        "colab_type": "code",
        "id": "JTmUpLwLzWmi",
        "colab": {}
      },
      "source": [
        "s2[2] # второй элемент серии s2 (индексация с 0)"
      ],
      "execution_count": 0,
      "outputs": []
    },
    {
      "cell_type": "markdown",
      "metadata": {
        "colab_type": "text",
        "id": "IJsaC78YzWmm"
      },
      "source": [
        "К элементам Series можно обращаться по метке:"
      ]
    },
    {
      "cell_type": "code",
      "metadata": {
        "colab_type": "code",
        "id": "ke_GSzJGzWmn",
        "colab": {}
      },
      "source": [
        "s2['c']"
      ],
      "execution_count": 0,
      "outputs": []
    },
    {
      "cell_type": "markdown",
      "metadata": {
        "colab_type": "text",
        "id": "BOFYDD-BzWmr"
      },
      "source": [
        "К элементам Series можно применять так называемые slice (срезы) через ':'.\n",
        "Срезами является часть серии до или после определенного элемента"
      ]
    },
    {
      "cell_type": "code",
      "metadata": {
        "colab_type": "code",
        "id": "_IMv8alczWmr",
        "colab": {}
      },
      "source": [
        "s2[:2] # все элементы до второго включительно"
      ],
      "execution_count": 0,
      "outputs": []
    },
    {
      "cell_type": "code",
      "metadata": {
        "colab_type": "code",
        "id": "4zE4QBF5zWmt",
        "colab": {}
      },
      "source": [
        "s2[2:] # второй и все элементы после второго до конца"
      ],
      "execution_count": 0,
      "outputs": []
    },
    {
      "cell_type": "code",
      "metadata": {
        "colab_type": "code",
        "id": "znQ0ekeTzWmw",
        "colab": {}
      },
      "source": [
        "s2[2:4] # все элементы со второго по четвертый не включительно. Последний никогда не включается."
      ],
      "execution_count": 0,
      "outputs": []
    },
    {
      "cell_type": "code",
      "metadata": {
        "id": "6QZ12o-Hmjnr",
        "colab_type": "code",
        "colab": {}
      },
      "source": [
        "s2[:] # все элементы"
      ],
      "execution_count": 0,
      "outputs": []
    },
    {
      "cell_type": "markdown",
      "metadata": {
        "colab_type": "text",
        "id": "nYQFy1gyzWmy"
      },
      "source": [
        "В поле для индекса можно поместить условное выражение.\n",
        "Данное выражение можно перевести как вопрос, является ли значение элемента (признака) меньшим или равным двум."
      ]
    },
    {
      "cell_type": "code",
      "metadata": {
        "colab_type": "code",
        "id": "j_MWQDjnzWmy",
        "colab": {
          "base_uri": "https://localhost:8080/",
          "height": 68
        },
        "outputId": "43f0a106-4033-491a-e2af-a3cbd7abcb61"
      },
      "source": [
        "s2[s2 <= 2]"
      ],
      "execution_count": 23,
      "outputs": [
        {
          "output_type": "execute_result",
          "data": {
            "text/plain": [
              "a    1\n",
              "b    2\n",
              "dtype: int64"
            ]
          },
          "metadata": {
            "tags": []
          },
          "execution_count": 23
        }
      ]
    },
    {
      "cell_type": "markdown",
      "metadata": {
        "id": "ckQnNZAjn4mL",
        "colab_type": "text"
      },
      "source": [
        "Или даже несколько условных выражений, отделенных \"( )\". \n",
        "\n",
        "Если соединить два условия знаком \"&\", то результат будет удовлетворять двум условиям, а если знаком \"|\", то хотя бы одному из них."
      ]
    },
    {
      "cell_type": "code",
      "metadata": {
        "id": "tFa7rL-mn45B",
        "colab_type": "code",
        "colab": {}
      },
      "source": [
        "s2[(s2 >= 2) & (s2 <=4)]"
      ],
      "execution_count": 0,
      "outputs": []
    },
    {
      "cell_type": "code",
      "metadata": {
        "id": "8Kwvc9xSomoo",
        "colab_type": "code",
        "colab": {}
      },
      "source": [
        "s2[(s2 <= 2) | (s2 == 5)]"
      ],
      "execution_count": 0,
      "outputs": []
    },
    {
      "cell_type": "markdown",
      "metadata": {
        "id": "cXVo5eJvo5Hc",
        "colab_type": "text"
      },
      "source": [
        "Важно, что в условных выражениях равенство пишется как \"==\" (два знака \"равно\")."
      ]
    },
    {
      "cell_type": "markdown",
      "metadata": {
        "colab_type": "text",
        "id": "kagxI_NfzWm1"
      },
      "source": [
        "Со структурами Series можно работать как с векторами: складывать, умножать вектор на число и т.п."
      ]
    },
    {
      "cell_type": "code",
      "metadata": {
        "colab_type": "code",
        "id": "2mAOcSTgzWm2",
        "colab": {}
      },
      "source": [
        "s3 = s2 + 10"
      ],
      "execution_count": 0,
      "outputs": []
    },
    {
      "cell_type": "code",
      "metadata": {
        "colab_type": "code",
        "id": "dMhJC4XjzWm4",
        "colab": {
          "base_uri": "https://localhost:8080/",
          "height": 119
        },
        "outputId": "393b8868-c948-4bde-d65d-6b5538962ddf"
      },
      "source": [
        "print(s3)"
      ],
      "execution_count": 26,
      "outputs": [
        {
          "output_type": "stream",
          "text": [
            "a    11\n",
            "b    12\n",
            "c    13\n",
            "d    14\n",
            "e    15\n",
            "dtype: int64\n"
          ],
          "name": "stdout"
        }
      ]
    },
    {
      "cell_type": "markdown",
      "metadata": {
        "id": "gnyZuP3taQhB",
        "colab_type": "text"
      },
      "source": [
        "## Примеры анализа информации"
      ]
    },
    {
      "cell_type": "markdown",
      "metadata": {
        "id": "o76V1-_t09-T",
        "colab_type": "text"
      },
      "source": [
        "Для примера отберем пассажиров мужского пола, возраст которых меньше сорока лет."
      ]
    },
    {
      "cell_type": "code",
      "metadata": {
        "id": "bQ0Q-A1SxTXJ",
        "colab_type": "code",
        "colab": {}
      },
      "source": [
        "df[(df['Sex'] == 'male') & (df.Age < 40)].head(5)"
      ],
      "execution_count": 0,
      "outputs": []
    },
    {
      "cell_type": "markdown",
      "metadata": {
        "id": "gNrAR3R41PDO",
        "colab_type": "text"
      },
      "source": [
        "Можно отсортировать этих людей по возрастанию платы за билет. Ascending в данной функции отвечает за сортировку по убыванию (False) или по возрастанию (True)."
      ]
    },
    {
      "cell_type": "code",
      "metadata": {
        "id": "xBnWGrQfxdCT",
        "colab_type": "code",
        "colab": {
          "base_uri": "https://localhost:8080/",
          "height": 359
        },
        "outputId": "91aa3b6e-91a3-47b4-f0ec-3eb9281d4b5a"
      },
      "source": [
        "df[(df['Sex'] == 'male') & (df.Age < 40)].sort_values(by='Fare',ascending=True).head(10)"
      ],
      "execution_count": 27,
      "outputs": [
        {
          "output_type": "execute_result",
          "data": {
            "text/html": [
              "<div>\n",
              "<style scoped>\n",
              "    .dataframe tbody tr th:only-of-type {\n",
              "        vertical-align: middle;\n",
              "    }\n",
              "\n",
              "    .dataframe tbody tr th {\n",
              "        vertical-align: top;\n",
              "    }\n",
              "\n",
              "    .dataframe thead th {\n",
              "        text-align: right;\n",
              "    }\n",
              "</style>\n",
              "<table border=\"1\" class=\"dataframe\">\n",
              "  <thead>\n",
              "    <tr style=\"text-align: right;\">\n",
              "      <th></th>\n",
              "      <th>PassengerId</th>\n",
              "      <th>Survived</th>\n",
              "      <th>Pclass</th>\n",
              "      <th>Name</th>\n",
              "      <th>Sex</th>\n",
              "      <th>Age</th>\n",
              "      <th>SibSp</th>\n",
              "      <th>Parch</th>\n",
              "      <th>Ticket</th>\n",
              "      <th>Fare</th>\n",
              "      <th>Cabin</th>\n",
              "      <th>Embarked</th>\n",
              "    </tr>\n",
              "  </thead>\n",
              "  <tbody>\n",
              "    <tr>\n",
              "      <th>271</th>\n",
              "      <td>272</td>\n",
              "      <td>1</td>\n",
              "      <td>3</td>\n",
              "      <td>Tornquist, Mr. William Henry</td>\n",
              "      <td>male</td>\n",
              "      <td>25.0</td>\n",
              "      <td>0</td>\n",
              "      <td>0</td>\n",
              "      <td>LINE</td>\n",
              "      <td>0.0000</td>\n",
              "      <td>NaN</td>\n",
              "      <td>S</td>\n",
              "    </tr>\n",
              "    <tr>\n",
              "      <th>822</th>\n",
              "      <td>823</td>\n",
              "      <td>0</td>\n",
              "      <td>1</td>\n",
              "      <td>Reuchlin, Jonkheer. John George</td>\n",
              "      <td>male</td>\n",
              "      <td>38.0</td>\n",
              "      <td>0</td>\n",
              "      <td>0</td>\n",
              "      <td>19972</td>\n",
              "      <td>0.0000</td>\n",
              "      <td>NaN</td>\n",
              "      <td>S</td>\n",
              "    </tr>\n",
              "    <tr>\n",
              "      <th>806</th>\n",
              "      <td>807</td>\n",
              "      <td>0</td>\n",
              "      <td>1</td>\n",
              "      <td>Andrews, Mr. Thomas Jr</td>\n",
              "      <td>male</td>\n",
              "      <td>39.0</td>\n",
              "      <td>0</td>\n",
              "      <td>0</td>\n",
              "      <td>112050</td>\n",
              "      <td>0.0000</td>\n",
              "      <td>A36</td>\n",
              "      <td>S</td>\n",
              "    </tr>\n",
              "    <tr>\n",
              "      <th>179</th>\n",
              "      <td>180</td>\n",
              "      <td>0</td>\n",
              "      <td>3</td>\n",
              "      <td>Leonard, Mr. Lionel</td>\n",
              "      <td>male</td>\n",
              "      <td>36.0</td>\n",
              "      <td>0</td>\n",
              "      <td>0</td>\n",
              "      <td>LINE</td>\n",
              "      <td>0.0000</td>\n",
              "      <td>NaN</td>\n",
              "      <td>S</td>\n",
              "    </tr>\n",
              "    <tr>\n",
              "      <th>302</th>\n",
              "      <td>303</td>\n",
              "      <td>0</td>\n",
              "      <td>3</td>\n",
              "      <td>Johnson, Mr. William Cahoone Jr</td>\n",
              "      <td>male</td>\n",
              "      <td>19.0</td>\n",
              "      <td>0</td>\n",
              "      <td>0</td>\n",
              "      <td>LINE</td>\n",
              "      <td>0.0000</td>\n",
              "      <td>NaN</td>\n",
              "      <td>S</td>\n",
              "    </tr>\n",
              "    <tr>\n",
              "      <th>378</th>\n",
              "      <td>379</td>\n",
              "      <td>0</td>\n",
              "      <td>3</td>\n",
              "      <td>Betros, Mr. Tannous</td>\n",
              "      <td>male</td>\n",
              "      <td>20.0</td>\n",
              "      <td>0</td>\n",
              "      <td>0</td>\n",
              "      <td>2648</td>\n",
              "      <td>4.0125</td>\n",
              "      <td>NaN</td>\n",
              "      <td>C</td>\n",
              "    </tr>\n",
              "    <tr>\n",
              "      <th>872</th>\n",
              "      <td>873</td>\n",
              "      <td>0</td>\n",
              "      <td>1</td>\n",
              "      <td>Carlsson, Mr. Frans Olof</td>\n",
              "      <td>male</td>\n",
              "      <td>33.0</td>\n",
              "      <td>0</td>\n",
              "      <td>0</td>\n",
              "      <td>695</td>\n",
              "      <td>5.0000</td>\n",
              "      <td>B51 B53 B55</td>\n",
              "      <td>S</td>\n",
              "    </tr>\n",
              "    <tr>\n",
              "      <th>843</th>\n",
              "      <td>844</td>\n",
              "      <td>0</td>\n",
              "      <td>3</td>\n",
              "      <td>Lemberopolous, Mr. Peter L</td>\n",
              "      <td>male</td>\n",
              "      <td>34.5</td>\n",
              "      <td>0</td>\n",
              "      <td>0</td>\n",
              "      <td>2683</td>\n",
              "      <td>6.4375</td>\n",
              "      <td>NaN</td>\n",
              "      <td>C</td>\n",
              "    </tr>\n",
              "    <tr>\n",
              "      <th>371</th>\n",
              "      <td>372</td>\n",
              "      <td>0</td>\n",
              "      <td>3</td>\n",
              "      <td>Wiklund, Mr. Jakob Alfred</td>\n",
              "      <td>male</td>\n",
              "      <td>18.0</td>\n",
              "      <td>1</td>\n",
              "      <td>0</td>\n",
              "      <td>3101267</td>\n",
              "      <td>6.4958</td>\n",
              "      <td>NaN</td>\n",
              "      <td>S</td>\n",
              "    </tr>\n",
              "    <tr>\n",
              "      <th>202</th>\n",
              "      <td>203</td>\n",
              "      <td>0</td>\n",
              "      <td>3</td>\n",
              "      <td>Johanson, Mr. Jakob Alfred</td>\n",
              "      <td>male</td>\n",
              "      <td>34.0</td>\n",
              "      <td>0</td>\n",
              "      <td>0</td>\n",
              "      <td>3101264</td>\n",
              "      <td>6.4958</td>\n",
              "      <td>NaN</td>\n",
              "      <td>S</td>\n",
              "    </tr>\n",
              "  </tbody>\n",
              "</table>\n",
              "</div>"
            ],
            "text/plain": [
              "     PassengerId  Survived  Pclass  ...    Fare        Cabin  Embarked\n",
              "271          272         1       3  ...  0.0000          NaN         S\n",
              "822          823         0       1  ...  0.0000          NaN         S\n",
              "806          807         0       1  ...  0.0000          A36         S\n",
              "179          180         0       3  ...  0.0000          NaN         S\n",
              "302          303         0       3  ...  0.0000          NaN         S\n",
              "378          379         0       3  ...  4.0125          NaN         C\n",
              "872          873         0       1  ...  5.0000  B51 B53 B55         S\n",
              "843          844         0       3  ...  6.4375          NaN         C\n",
              "371          372         0       3  ...  6.4958          NaN         S\n",
              "202          203         0       3  ...  6.4958          NaN         S\n",
              "\n",
              "[10 rows x 12 columns]"
            ]
          },
          "metadata": {
            "tags": []
          },
          "execution_count": 27
        }
      ]
    },
    {
      "cell_type": "markdown",
      "metadata": {
        "id": "oBO-Nhzh2cvL",
        "colab_type": "text"
      },
      "source": [
        "Можно подсчитать количество пассажиров (а точнее их уникальных номеров) с помощью функции count()"
      ]
    },
    {
      "cell_type": "code",
      "metadata": {
        "id": "A0qPNXHs12m6",
        "colab_type": "code",
        "colab": {}
      },
      "source": [
        "df[(df['Sex'] == 'male') & (df.Age < 40)].sort_values(by='Fare',ascending=True).PassengerId.count()"
      ],
      "execution_count": 0,
      "outputs": []
    },
    {
      "cell_type": "markdown",
      "metadata": {
        "id": "nIYN5Eob3yJz",
        "colab_type": "text"
      },
      "source": [
        "Также можно быстро вывести распределение переменной Sex с помощью функции value_count()"
      ]
    },
    {
      "cell_type": "code",
      "metadata": {
        "id": "ryeKmgpO3hSx",
        "colab_type": "code",
        "colab": {
          "base_uri": "https://localhost:8080/",
          "height": 68
        },
        "outputId": "c24ef977-1b23-41a9-99c0-ce9942907e98"
      },
      "source": [
        "df.Sex.value_counts()"
      ],
      "execution_count": 28,
      "outputs": [
        {
          "output_type": "execute_result",
          "data": {
            "text/plain": [
              "male      577\n",
              "female    314\n",
              "Name: Sex, dtype: int64"
            ]
          },
          "metadata": {
            "tags": []
          },
          "execution_count": 28
        }
      ]
    },
    {
      "cell_type": "markdown",
      "metadata": {
        "id": "ACGDsuGOagZt",
        "colab_type": "text"
      },
      "source": [
        "## Задания"
      ]
    },
    {
      "cell_type": "markdown",
      "metadata": {
        "id": "6juXJzCA1qFR",
        "colab_type": "text"
      },
      "source": [
        "Задание 1.\n",
        "Сколько человек спаслись и сколько погибли?"
      ]
    },
    {
      "cell_type": "code",
      "metadata": {
        "id": "vr9y7QQJEvSL",
        "colab_type": "code",
        "colab": {
          "base_uri": "https://localhost:8080/",
          "height": 51
        },
        "outputId": "7b5b300e-a669-487a-a089-85085f297da4"
      },
      "source": [
        "print(\"Выжило: \")\n",
        "df[df['Survived'] == 1].PassengerId.count()"
      ],
      "execution_count": 32,
      "outputs": [
        {
          "output_type": "stream",
          "text": [
            "Выжило: \n"
          ],
          "name": "stdout"
        },
        {
          "output_type": "execute_result",
          "data": {
            "text/plain": [
              "342"
            ]
          },
          "metadata": {
            "tags": []
          },
          "execution_count": 32
        }
      ]
    },
    {
      "cell_type": "code",
      "metadata": {
        "id": "OGzRyjhWHRzy",
        "colab_type": "code",
        "colab": {
          "base_uri": "https://localhost:8080/",
          "height": 51
        },
        "outputId": "19d7eecb-9bca-4af8-a9b1-2e62a05ddead"
      },
      "source": [
        "print('Погибло')\n",
        "df[df['Survived'] == 0].PassengerId.count()"
      ],
      "execution_count": 60,
      "outputs": [
        {
          "output_type": "stream",
          "text": [
            "Погибло\n"
          ],
          "name": "stdout"
        },
        {
          "output_type": "execute_result",
          "data": {
            "text/plain": [
              "549"
            ]
          },
          "metadata": {
            "tags": []
          },
          "execution_count": 60
        }
      ]
    },
    {
      "cell_type": "markdown",
      "metadata": {
        "id": "ROJJ8MSE2xdh",
        "colab_type": "text"
      },
      "source": [
        "Задание 2. Выведите распределение переменной Survived отдельно для мужчин и отдельно для женщин\n"
      ]
    },
    {
      "cell_type": "code",
      "metadata": {
        "id": "GNTW3sVq2sP3",
        "colab_type": "code",
        "colab": {
          "base_uri": "https://localhost:8080/",
          "height": 34
        },
        "outputId": "36793eaa-d87a-4c64-bdb2-d9491bc2be5a"
      },
      "source": [
        "print('Муж выжило: ')\n",
        "df[(df['Sex'] == 'male') & (df['Survived'] == 1)]['Survived'].count()"
      ],
      "execution_count": 73,
      "outputs": [
        {
          "output_type": "execute_result",
          "data": {
            "text/plain": [
              "109"
            ]
          },
          "metadata": {
            "tags": []
          },
          "execution_count": 73
        }
      ]
    },
    {
      "cell_type": "code",
      "metadata": {
        "id": "tYmP9Tl8JQkE",
        "colab_type": "code",
        "colab": {
          "base_uri": "https://localhost:8080/",
          "height": 34
        },
        "outputId": "d16650bc-629e-471a-b786-9d8d5b795cee"
      },
      "source": [
        "print('Муж погибло: ')\n",
        "df[(df['Sex'] == 'male') & (df['Survived'] == 0)]['Survived'].count()"
      ],
      "execution_count": 74,
      "outputs": [
        {
          "output_type": "execute_result",
          "data": {
            "text/plain": [
              "468"
            ]
          },
          "metadata": {
            "tags": []
          },
          "execution_count": 74
        }
      ]
    },
    {
      "cell_type": "code",
      "metadata": {
        "id": "o5B0ETQoG_zV",
        "colab_type": "code",
        "colab": {
          "base_uri": "https://localhost:8080/",
          "height": 51
        },
        "outputId": "3b582134-e3d7-419f-acf5-0bce093c6078"
      },
      "source": [
        "print('Жен выжило: ')\n",
        "df[(df['Sex'] == 'female') & (df['Survived'] == 1)]['Survived'].count()"
      ],
      "execution_count": 77,
      "outputs": [
        {
          "output_type": "stream",
          "text": [
            "Жен выжило: \n"
          ],
          "name": "stdout"
        },
        {
          "output_type": "execute_result",
          "data": {
            "text/plain": [
              "233"
            ]
          },
          "metadata": {
            "tags": []
          },
          "execution_count": 77
        }
      ]
    },
    {
      "cell_type": "code",
      "metadata": {
        "id": "JYAsFkbwJZbl",
        "colab_type": "code",
        "colab": {
          "base_uri": "https://localhost:8080/",
          "height": 51
        },
        "outputId": "d3d66bea-0ac1-431f-92f7-059ae20aa42c"
      },
      "source": [
        "print('Жен погбило: ')\n",
        "df[(df['Sex'] == 'female') & (df['Survived'] == 0)]['Survived'].count()"
      ],
      "execution_count": 78,
      "outputs": [
        {
          "output_type": "stream",
          "text": [
            "Жен погбило: \n"
          ],
          "name": "stdout"
        },
        {
          "output_type": "execute_result",
          "data": {
            "text/plain": [
              "81"
            ]
          },
          "metadata": {
            "tags": []
          },
          "execution_count": 78
        }
      ]
    },
    {
      "cell_type": "markdown",
      "metadata": {
        "id": "JOxfl_Rc5SPG",
        "colab_type": "text"
      },
      "source": [
        "Задание 3. Каковы медиана и стандартное отклонение цен за билет?"
      ]
    },
    {
      "cell_type": "code",
      "metadata": {
        "id": "VLS_yn9f4_eL",
        "colab_type": "code",
        "colab": {
          "base_uri": "https://localhost:8080/",
          "height": 51
        },
        "outputId": "eee7c3fa-211d-4c7f-e3fe-7f6a0b09c4ff"
      },
      "source": [
        "print('median: ')\n",
        "df['Fare'].median()"
      ],
      "execution_count": 66,
      "outputs": [
        {
          "output_type": "stream",
          "text": [
            "median: \n"
          ],
          "name": "stdout"
        },
        {
          "output_type": "execute_result",
          "data": {
            "text/plain": [
              "14.4542"
            ]
          },
          "metadata": {
            "tags": []
          },
          "execution_count": 66
        }
      ]
    },
    {
      "cell_type": "code",
      "metadata": {
        "id": "ecYNQk9LIFoK",
        "colab_type": "code",
        "colab": {
          "base_uri": "https://localhost:8080/",
          "height": 51
        },
        "outputId": "998e5ee2-9525-4d2d-cbf5-82cb46c0af1a"
      },
      "source": [
        "print('std: ')\n",
        "df['Fare'].describe()['std']"
      ],
      "execution_count": 63,
      "outputs": [
        {
          "output_type": "stream",
          "text": [
            "std: \n"
          ],
          "name": "stdout"
        },
        {
          "output_type": "execute_result",
          "data": {
            "text/plain": [
              "49.693428597180905"
            ]
          },
          "metadata": {
            "tags": []
          },
          "execution_count": 63
        }
      ]
    },
    {
      "cell_type": "markdown",
      "metadata": {
        "id": "JMpQ54xk51wN",
        "colab_type": "text"
      },
      "source": [
        "Задание 4. Подсчитайте долю выживших среди людей моложе 25 лет и старше 55."
      ]
    },
    {
      "cell_type": "code",
      "metadata": {
        "id": "mzqVFbbE6art",
        "colab_type": "code",
        "colab": {
          "base_uri": "https://localhost:8080/",
          "height": 34
        },
        "outputId": "b27e7c0e-ea69-425b-dd32-987f8502542a"
      },
      "source": [
        "df[((df['Age'] < 25) | (df['Age'] > 55)) & (df['Survived'] == 1)]['PassengerId'].count()/df[(df['Age'] < 25) | (df['Age'] > 55)]['PassengerId'].count()"
      ],
      "execution_count": 92,
      "outputs": [
        {
          "output_type": "execute_result",
          "data": {
            "text/plain": [
              "0.4088050314465409"
            ]
          },
          "metadata": {
            "tags": []
          },
          "execution_count": 92
        }
      ]
    },
    {
      "cell_type": "markdown",
      "metadata": {
        "id": "c9dMqjki6tWX",
        "colab_type": "text"
      },
      "source": [
        "Задание 5. Подсчитайте долю выживших среди мужчин и женщин."
      ]
    },
    {
      "cell_type": "code",
      "metadata": {
        "id": "EuQ3k9_56WTD",
        "colab_type": "code",
        "colab": {
          "base_uri": "https://localhost:8080/",
          "height": 34
        },
        "outputId": "6c6d8f2f-ad4f-4dc8-c5fa-aaac72462f38"
      },
      "source": [
        "df[(df['Sex'] == 'male') & (df['Survived'] == 1)].PassengerId.count()/df[df['Sex'] == 'male'].PassengerId.count()"
      ],
      "execution_count": 86,
      "outputs": [
        {
          "output_type": "execute_result",
          "data": {
            "text/plain": [
              "0.18890814558058924"
            ]
          },
          "metadata": {
            "tags": []
          },
          "execution_count": 86
        }
      ]
    },
    {
      "cell_type": "code",
      "metadata": {
        "id": "oMVWkyqEK4o7",
        "colab_type": "code",
        "colab": {
          "base_uri": "https://localhost:8080/",
          "height": 34
        },
        "outputId": "d1de44d9-3c46-42e4-95ed-68fd8edc9d34"
      },
      "source": [
        "df[(df['Sex'] == 'female') & (df['Survived'] == 1)].PassengerId.count()/df[df['Sex'] == 'female'].PassengerId.count()"
      ],
      "execution_count": 87,
      "outputs": [
        {
          "output_type": "execute_result",
          "data": {
            "text/plain": [
              "0.7420382165605095"
            ]
          },
          "metadata": {
            "tags": []
          },
          "execution_count": 87
        }
      ]
    },
    {
      "cell_type": "markdown",
      "metadata": {
        "id": "d9HcyxCe8Amb",
        "colab_type": "text"
      },
      "source": [
        "Задание 6. В каком городе больше всего село пассажиров?"
      ]
    },
    {
      "cell_type": "code",
      "metadata": {
        "id": "Z1qimpFF6914",
        "colab_type": "code",
        "colab": {
          "base_uri": "https://localhost:8080/",
          "height": 34
        },
        "outputId": "5902a8f1-3892-4433-fe3c-eef3701221cb"
      },
      "source": [
        "df['Embarked'].mode()[0]"
      ],
      "execution_count": 101,
      "outputs": [
        {
          "output_type": "execute_result",
          "data": {
            "text/plain": [
              "'S'"
            ]
          },
          "metadata": {
            "tags": []
          },
          "execution_count": 101
        }
      ]
    },
    {
      "cell_type": "markdown",
      "metadata": {
        "id": "r7Ev8RJWy0la",
        "colab_type": "text"
      },
      "source": [
        "Задание 7. Подсчитайте средний возраст выживших"
      ]
    },
    {
      "cell_type": "code",
      "metadata": {
        "id": "UV2fKrBW8F2W",
        "colab_type": "code",
        "colab": {
          "base_uri": "https://localhost:8080/",
          "height": 34
        },
        "outputId": "adeb639e-fa67-4527-9e4a-966fe1744cb9"
      },
      "source": [
        "df[df.Survived == 1]['Age'].mean()"
      ],
      "execution_count": 93,
      "outputs": [
        {
          "output_type": "execute_result",
          "data": {
            "text/plain": [
              "28.343689655172415"
            ]
          },
          "metadata": {
            "tags": []
          },
          "execution_count": 93
        }
      ]
    },
    {
      "cell_type": "markdown",
      "metadata": {
        "id": "KA326h6WzEvm",
        "colab_type": "text"
      },
      "source": [
        "Задание 8. Подсчитайте средний возраст пассажиров каждого из трех классов\n"
      ]
    },
    {
      "cell_type": "code",
      "metadata": {
        "id": "8ey0hMZzzd3M",
        "colab_type": "code",
        "colab": {
          "base_uri": "https://localhost:8080/",
          "height": 34
        },
        "outputId": "5da13f07-728a-43dc-ec67-d4ea60178c6e"
      },
      "source": [
        "df[df['Pclass'] == 1]['Age'].mean()"
      ],
      "execution_count": 103,
      "outputs": [
        {
          "output_type": "execute_result",
          "data": {
            "text/plain": [
              "38.233440860215055"
            ]
          },
          "metadata": {
            "tags": []
          },
          "execution_count": 103
        }
      ]
    },
    {
      "cell_type": "code",
      "metadata": {
        "id": "SSHtyUBbNORz",
        "colab_type": "code",
        "colab": {
          "base_uri": "https://localhost:8080/",
          "height": 34
        },
        "outputId": "2dc5c596-56bb-4394-d2f0-c02b2b3c5c3c"
      },
      "source": [
        "df[df['Pclass'] == 2]['Age'].mean()"
      ],
      "execution_count": 104,
      "outputs": [
        {
          "output_type": "execute_result",
          "data": {
            "text/plain": [
              "29.87763005780347"
            ]
          },
          "metadata": {
            "tags": []
          },
          "execution_count": 104
        }
      ]
    },
    {
      "cell_type": "code",
      "metadata": {
        "id": "UiR4r5wcNOlx",
        "colab_type": "code",
        "colab": {
          "base_uri": "https://localhost:8080/",
          "height": 34
        },
        "outputId": "9b80e2f5-e86e-473e-a2a1-dfcf41c98999"
      },
      "source": [
        "df[df['Pclass'] == 3]['Age'].mean()"
      ],
      "execution_count": 105,
      "outputs": [
        {
          "output_type": "execute_result",
          "data": {
            "text/plain": [
              "25.14061971830986"
            ]
          },
          "metadata": {
            "tags": []
          },
          "execution_count": 105
        }
      ]
    },
    {
      "cell_type": "markdown",
      "metadata": {
        "id": "XzwUK8sozykd",
        "colab_type": "text"
      },
      "source": [
        "Задание 9. Подсчитайте средний возраст выживших мужчин, купивших билет во 2 класс"
      ]
    },
    {
      "cell_type": "code",
      "metadata": {
        "id": "C2_Rc8gaztw5",
        "colab_type": "code",
        "colab": {
          "base_uri": "https://localhost:8080/",
          "height": 34
        },
        "outputId": "b4665a9e-6949-46f7-ad21-6f0d0fc2c118"
      },
      "source": [
        "df[(df['Pclass'] == 2) & (df['Survived'] == 1) & (df['Sex'] == 'male')]['Age'].mean()"
      ],
      "execution_count": 106,
      "outputs": [
        {
          "output_type": "execute_result",
          "data": {
            "text/plain": [
              "16.022"
            ]
          },
          "metadata": {
            "tags": []
          },
          "execution_count": 106
        }
      ]
    },
    {
      "cell_type": "markdown",
      "metadata": {
        "id": "caDgfRO1a3_j",
        "colab_type": "text"
      },
      "source": [
        "Задание 10*. Оцените, как влияет на выживаемость пассажиров наличие их родственников на борту."
      ]
    },
    {
      "cell_type": "code",
      "metadata": {
        "id": "qpU4kmQWz_T6",
        "colab_type": "code",
        "colab": {}
      },
      "source": [
        ""
      ],
      "execution_count": 0,
      "outputs": []
    }
  ]
}